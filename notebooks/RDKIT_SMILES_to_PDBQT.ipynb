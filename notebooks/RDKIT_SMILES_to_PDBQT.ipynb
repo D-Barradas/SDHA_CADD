{
 "cells": [
  {
   "cell_type": "code",
   "execution_count": 1,
   "id": "d0bb35f7-74e2-407f-814b-6ba349fe3622",
   "metadata": {},
   "outputs": [],
   "source": [
    "from rdkit import Chem\n",
    "from rdkit.Chem import AllChem\n",
    "# from rdkit.Chem.rdMolTransforms import ComputeCentroid\n",
    "import pdbtools\n",
    "import subprocess"
   ]
  },
  {
   "cell_type": "code",
   "execution_count": 2,
   "id": "2105d029-bc7b-4e9d-84c7-b9409ec095d5",
   "metadata": {},
   "outputs": [
    {
     "data": {
      "text/plain": [
       "1"
      ]
     },
     "execution_count": 2,
     "metadata": {},
     "output_type": "execute_result"
    }
   ],
   "source": [
    "mol1 = Chem.MolFromSmiles(\"CC(=O)NC[C@H]1CN(c2ccc(N3CCOC4(CCOC4)C3)c(F)c2)C(=O)O1\")\n",
    "mol1 = Chem.AddHs(mol1)\n",
    "AllChem.EmbedMolecule(mol1)\n",
    "AllChem.MMFFOptimizeMolecule(mol1)"
   ]
  },
  {
   "cell_type": "code",
   "execution_count": 3,
   "id": "de327a08-2230-4e9b-9f92-99765afed916",
   "metadata": {},
   "outputs": [],
   "source": [
    "Chem.rdmolfiles.MolToPDBFile(mol1,\"../files/pdb_test.pdb\")"
   ]
  },
  {
   "cell_type": "code",
   "execution_count": 4,
   "id": "694f94bd-6009-4c80-9668-45d83b0933cf",
   "metadata": {},
   "outputs": [
    {
     "name": "stdout",
     "output_type": "stream",
     "text": [
      "1 6 C C\n",
      "2 6 C C\n",
      "3 8 O O\n",
      "4 7 N N\n",
      "5 6 C C\n",
      "6 6 C C\n",
      "7 6 C C\n",
      "8 7 N N\n",
      "9 6 C C\n",
      "10 6 C C\n",
      "11 6 C C\n",
      "12 6 C C\n",
      "13 7 N N\n",
      "14 6 C C\n",
      "15 6 C C\n",
      "16 8 O O\n",
      "17 6 C C\n",
      "18 6 C C\n",
      "19 6 C C\n",
      "20 8 O O\n",
      "21 6 C C\n",
      "22 6 C C\n",
      "23 6 C C\n",
      "24 9 F F\n",
      "25 6 C C\n",
      "26 6 C C\n",
      "27 8 O O\n",
      "28 8 O O\n",
      "29 1 H H\n",
      "30 1 H H\n",
      "31 1 H H\n",
      "32 1 H H\n",
      "33 1 H H\n",
      "34 1 H H\n",
      "35 1 H H\n",
      "36 1 H H\n",
      "37 1 H H\n",
      "38 1 H H\n",
      "39 1 H H\n",
      "40 1 H H\n",
      "41 1 H H\n",
      "42 1 H H\n",
      "43 1 H H\n",
      "44 1 H H\n",
      "45 1 H H\n",
      "46 1 H H\n",
      "47 1 H H\n",
      "48 1 H H\n",
      "49 1 H H\n",
      "50 1 H H\n",
      "51 1 H H\n",
      "52 1 H H\n",
      "1 6 C C\n",
      "2 6 C C\n",
      "3 8 O O\n",
      "4 7 N N\n",
      "5 6 C C\n",
      "6 6 C C\n",
      "7 6 C C\n",
      "8 7 N N\n",
      "9 6 C C\n",
      "10 6 C C\n",
      "11 6 C C\n",
      "12 6 C C\n",
      "13 7 N N\n",
      "14 6 C C\n",
      "15 6 C C\n",
      "16 8 O O\n",
      "17 6 C C\n",
      "18 6 C C\n",
      "19 6 C C\n",
      "20 8 O O\n",
      "21 6 C C\n",
      "22 6 C C\n",
      "23 6 C C\n",
      "24 9 F F\n",
      "25 6 C C\n",
      "26 6 C C\n",
      "27 8 O O\n",
      "28 8 O O\n",
      "29 1 H H\n",
      "30 1 H H\n",
      "31 1 H H\n",
      "32 1 H H\n",
      "33 1 H H\n",
      "34 1 H H\n",
      "35 1 H H\n",
      "36 1 H H\n",
      "37 1 H H\n",
      "38 1 H H\n",
      "39 1 H H\n",
      "40 1 H H\n",
      "41 1 H H\n",
      "42 1 H H\n",
      "43 1 H H\n",
      "44 1 H H\n",
      "45 1 H H\n",
      "46 1 H H\n",
      "47 1 H H\n",
      "48 1 H H\n",
      "49 1 H H\n",
      "50 1 H H\n",
      "51 1 H H\n",
      "52 1 H H\n"
     ]
    },
    {
     "data": {
      "text/plain": [
       "0"
      ]
     },
     "execution_count": 4,
     "metadata": {},
     "output_type": "execute_result"
    }
   ],
   "source": [
    "subprocess.call(f'mk_prepare_ligand.py -i ../files/pdb_test.pdb -o ../files/pdb_test_prepared.pdbqt --add_hydrogen --pH 7.4', shell=True)"
   ]
  },
  {
   "cell_type": "code",
   "execution_count": 5,
   "id": "2cac6106-7300-4643-b6f9-f460bf465f60",
   "metadata": {},
   "outputs": [
    {
     "data": {
      "text/plain": [
       "0"
      ]
     },
     "execution_count": 5,
     "metadata": {},
     "output_type": "execute_result"
    }
   ],
   "source": [
    "subprocess.call(f'pdb_selchain -A,B ../files/6vax.pdb | pdb_delhetatm | pdb_tidy > ../files/receptor_docking.pdb', shell=True)"
   ]
  },
  {
   "cell_type": "code",
   "execution_count": 6,
   "id": "ed36bfa5-3af1-4000-934b-c1cf372ceb03",
   "metadata": {},
   "outputs": [
    {
     "name": "stdout",
     "output_type": "stream",
     "text": [
      "adding gasteiger charges to peptide\n"
     ]
    },
    {
     "data": {
      "text/plain": [
       "0"
      ]
     },
     "execution_count": 6,
     "metadata": {},
     "output_type": "execute_result"
    }
   ],
   "source": [
    "subprocess.call(f'/home/didier/ADFRsuite-1.0/bin/prepare_receptor -r ../files/receptor_docking.pdb -o ../files/receptor_docking.pdbqt -A checkhydrogens', shell=True)"
   ]
  },
  {
   "cell_type": "code",
   "execution_count": null,
   "id": "f27c6103-ce3d-4375-ac82-bd80d1ebc999",
   "metadata": {},
   "outputs": [],
   "source": []
  }
 ],
 "metadata": {
  "kernelspec": {
   "display_name": "Python 3 (ipykernel)",
   "language": "python",
   "name": "python3"
  },
  "language_info": {
   "codemirror_mode": {
    "name": "ipython",
    "version": 3
   },
   "file_extension": ".py",
   "mimetype": "text/x-python",
   "name": "python",
   "nbconvert_exporter": "python",
   "pygments_lexer": "ipython3",
   "version": "3.7.10"
  }
 },
 "nbformat": 4,
 "nbformat_minor": 5
}
