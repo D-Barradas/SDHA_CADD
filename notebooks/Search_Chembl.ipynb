{
 "cells": [
  {
   "cell_type": "code",
   "execution_count": 1,
   "id": "94d3a120-1788-46be-80fe-58ec82ad769e",
   "metadata": {},
   "outputs": [],
   "source": [
    "import pandas as pd \n",
    "from chembl_webresource_client import new_client"
   ]
  },
  {
   "cell_type": "code",
   "execution_count": 2,
   "id": "42119424-4791-4aba-ba87-7fe446376eb8",
   "metadata": {},
   "outputs": [
    {
     "data": {
      "text/html": [
       "<div>\n",
       "<style scoped>\n",
       "    .dataframe tbody tr th:only-of-type {\n",
       "        vertical-align: middle;\n",
       "    }\n",
       "\n",
       "    .dataframe tbody tr th {\n",
       "        vertical-align: top;\n",
       "    }\n",
       "\n",
       "    .dataframe thead th {\n",
       "        text-align: right;\n",
       "    }\n",
       "</style>\n",
       "<table border=\"1\" class=\"dataframe\">\n",
       "  <thead>\n",
       "    <tr style=\"text-align: right;\">\n",
       "      <th></th>\n",
       "      <th>cross_references</th>\n",
       "      <th>organism</th>\n",
       "      <th>pref_name</th>\n",
       "      <th>score</th>\n",
       "      <th>species_group_flag</th>\n",
       "      <th>target_chembl_id</th>\n",
       "      <th>target_components</th>\n",
       "      <th>target_type</th>\n",
       "      <th>tax_id</th>\n",
       "    </tr>\n",
       "  </thead>\n",
       "  <tbody>\n",
       "    <tr>\n",
       "      <th>0</th>\n",
       "      <td>[]</td>\n",
       "      <td>Rattus norvegicus</td>\n",
       "      <td>Succinate dehydrogenase [ubiquinone] flavoprot...</td>\n",
       "      <td>16.0</td>\n",
       "      <td>False</td>\n",
       "      <td>CHEMBL4523415</td>\n",
       "      <td>[{'accession': 'Q920L2', 'component_descriptio...</td>\n",
       "      <td>SINGLE PROTEIN</td>\n",
       "      <td>10116</td>\n",
       "    </tr>\n",
       "    <tr>\n",
       "      <th>1</th>\n",
       "      <td>[{'xref_id': 'P31040', 'xref_name': None, 'xre...</td>\n",
       "      <td>Homo sapiens</td>\n",
       "      <td>Succinate dehydrogenase [ubiquinone] flavoprot...</td>\n",
       "      <td>15.0</td>\n",
       "      <td>False</td>\n",
       "      <td>CHEMBL5758</td>\n",
       "      <td>[{'accession': 'P31040', 'component_descriptio...</td>\n",
       "      <td>SINGLE PROTEIN</td>\n",
       "      <td>9606</td>\n",
       "    </tr>\n",
       "  </tbody>\n",
       "</table>\n",
       "</div>"
      ],
      "text/plain": [
       "                                    cross_references           organism  \\\n",
       "0                                                 []  Rattus norvegicus   \n",
       "1  [{'xref_id': 'P31040', 'xref_name': None, 'xre...       Homo sapiens   \n",
       "\n",
       "                                           pref_name  score  \\\n",
       "0  Succinate dehydrogenase [ubiquinone] flavoprot...   16.0   \n",
       "1  Succinate dehydrogenase [ubiquinone] flavoprot...   15.0   \n",
       "\n",
       "   species_group_flag target_chembl_id  \\\n",
       "0               False    CHEMBL4523415   \n",
       "1               False       CHEMBL5758   \n",
       "\n",
       "                                   target_components     target_type  tax_id  \n",
       "0  [{'accession': 'Q920L2', 'component_descriptio...  SINGLE PROTEIN   10116  \n",
       "1  [{'accession': 'P31040', 'component_descriptio...  SINGLE PROTEIN    9606  "
      ]
     },
     "execution_count": 2,
     "metadata": {},
     "output_type": "execute_result"
    }
   ],
   "source": [
    "target = new_client.new_client.target\n",
    "target_query = target.search('SDHA')\n",
    "targets = pd.DataFrame.from_dict(target_query)\n",
    "targets"
   ]
  },
  {
   "cell_type": "code",
   "execution_count": 3,
   "id": "9d0cd7c6-8093-4a93-994e-9d163d651487",
   "metadata": {},
   "outputs": [
    {
     "data": {
      "text/html": [
       "<div>\n",
       "<style scoped>\n",
       "    .dataframe tbody tr th:only-of-type {\n",
       "        vertical-align: middle;\n",
       "    }\n",
       "\n",
       "    .dataframe tbody tr th {\n",
       "        vertical-align: top;\n",
       "    }\n",
       "\n",
       "    .dataframe thead th {\n",
       "        text-align: right;\n",
       "    }\n",
       "</style>\n",
       "<table border=\"1\" class=\"dataframe\">\n",
       "  <thead>\n",
       "    <tr style=\"text-align: right;\">\n",
       "      <th></th>\n",
       "      <th>atc_classifications</th>\n",
       "      <th>availability_type</th>\n",
       "      <th>biotherapeutic</th>\n",
       "      <th>black_box_warning</th>\n",
       "      <th>chebi_par_id</th>\n",
       "      <th>chirality</th>\n",
       "      <th>cross_references</th>\n",
       "      <th>dosed_ingredient</th>\n",
       "      <th>first_approval</th>\n",
       "      <th>first_in_class</th>\n",
       "      <th>...</th>\n",
       "      <th>topical</th>\n",
       "      <th>usan_stem</th>\n",
       "      <th>usan_stem_definition</th>\n",
       "      <th>usan_substem</th>\n",
       "      <th>usan_year</th>\n",
       "      <th>withdrawn_class</th>\n",
       "      <th>withdrawn_country</th>\n",
       "      <th>withdrawn_flag</th>\n",
       "      <th>withdrawn_reason</th>\n",
       "      <th>withdrawn_year</th>\n",
       "    </tr>\n",
       "  </thead>\n",
       "  <tbody>\n",
       "    <tr>\n",
       "      <th>0</th>\n",
       "      <td>[]</td>\n",
       "      <td>-1</td>\n",
       "      <td>None</td>\n",
       "      <td>0</td>\n",
       "      <td>62983</td>\n",
       "      <td>-1</td>\n",
       "      <td>[{'xref_id': 'Disodium_malonate', 'xref_name':...</td>\n",
       "      <td>False</td>\n",
       "      <td>None</td>\n",
       "      <td>-1</td>\n",
       "      <td>...</td>\n",
       "      <td>False</td>\n",
       "      <td>None</td>\n",
       "      <td>None</td>\n",
       "      <td>None</td>\n",
       "      <td>None</td>\n",
       "      <td>None</td>\n",
       "      <td>None</td>\n",
       "      <td>False</td>\n",
       "      <td>None</td>\n",
       "      <td>None</td>\n",
       "    </tr>\n",
       "  </tbody>\n",
       "</table>\n",
       "<p>1 rows × 38 columns</p>\n",
       "</div>"
      ],
      "text/plain": [
       "  atc_classifications  availability_type biotherapeutic  black_box_warning  \\\n",
       "0                  []                 -1           None                  0   \n",
       "\n",
       "   chebi_par_id  chirality                                   cross_references  \\\n",
       "0         62983         -1  [{'xref_id': 'Disodium_malonate', 'xref_name':...   \n",
       "\n",
       "   dosed_ingredient first_approval  first_in_class  ... topical usan_stem  \\\n",
       "0             False           None              -1  ...   False      None   \n",
       "\n",
       "   usan_stem_definition  usan_substem usan_year withdrawn_class  \\\n",
       "0                  None          None      None            None   \n",
       "\n",
       "  withdrawn_country withdrawn_flag withdrawn_reason  withdrawn_year  \n",
       "0              None          False             None            None  \n",
       "\n",
       "[1 rows x 38 columns]"
      ]
     },
     "execution_count": 3,
     "metadata": {},
     "output_type": "execute_result"
    }
   ],
   "source": [
    "similarity = new_client.new_client.similarity\n",
    "res_query = similarity.filter(smiles=\"[O-]C(=O)CC([O-])=O\", similarity=70)\n",
    "res = pd.DataFrame.from_dict(res_query)\n",
    "res"
   ]
  },
  {
   "cell_type": "code",
   "execution_count": null,
   "id": "039f9b07-f42a-4fba-b8f2-665a3a4cfa88",
   "metadata": {},
   "outputs": [],
   "source": []
  },
  {
   "cell_type": "code",
   "execution_count": 4,
   "id": "4aadb2d0-7bcd-4aae-99ec-d3c97ec3db13",
   "metadata": {},
   "outputs": [],
   "source": [
    "activity = new_client.new_client.activity\n",
    "act = activity.filter(target_chembl_id=targets.target_chembl_id[1]).filter(standard_type=\"IC50\")"
   ]
  },
  {
   "cell_type": "code",
   "execution_count": 5,
   "id": "06a5500e-334d-4e63-b2df-826a51a26a1d",
   "metadata": {},
   "outputs": [],
   "source": [
    "act= pd.DataFrame.from_dict(act)"
   ]
  },
  {
   "cell_type": "code",
   "execution_count": 6,
   "id": "48b64201-2302-4c15-9253-efaf3bab466e",
   "metadata": {},
   "outputs": [
    {
     "data": {
      "text/html": [
       "<div>\n",
       "<style scoped>\n",
       "    .dataframe tbody tr th:only-of-type {\n",
       "        vertical-align: middle;\n",
       "    }\n",
       "\n",
       "    .dataframe tbody tr th {\n",
       "        vertical-align: top;\n",
       "    }\n",
       "\n",
       "    .dataframe thead th {\n",
       "        text-align: right;\n",
       "    }\n",
       "</style>\n",
       "<table border=\"1\" class=\"dataframe\">\n",
       "  <thead>\n",
       "    <tr style=\"text-align: right;\">\n",
       "      <th></th>\n",
       "      <th>activity_comment</th>\n",
       "      <th>activity_id</th>\n",
       "      <th>activity_properties</th>\n",
       "      <th>assay_chembl_id</th>\n",
       "      <th>assay_description</th>\n",
       "      <th>assay_type</th>\n",
       "      <th>assay_variant_accession</th>\n",
       "      <th>assay_variant_mutation</th>\n",
       "      <th>bao_endpoint</th>\n",
       "      <th>bao_format</th>\n",
       "      <th>...</th>\n",
       "      <th>target_organism</th>\n",
       "      <th>target_pref_name</th>\n",
       "      <th>target_tax_id</th>\n",
       "      <th>text_value</th>\n",
       "      <th>toid</th>\n",
       "      <th>type</th>\n",
       "      <th>units</th>\n",
       "      <th>uo_units</th>\n",
       "      <th>upper_value</th>\n",
       "      <th>value</th>\n",
       "    </tr>\n",
       "  </thead>\n",
       "  <tbody>\n",
       "    <tr>\n",
       "      <th>0</th>\n",
       "      <td>None</td>\n",
       "      <td>19036387</td>\n",
       "      <td>[]</td>\n",
       "      <td>CHEMBL4350890</td>\n",
       "      <td>Inhibition of SDH-A (unknown origin) by ELISA</td>\n",
       "      <td>B</td>\n",
       "      <td>None</td>\n",
       "      <td>None</td>\n",
       "      <td>BAO_0000190</td>\n",
       "      <td>BAO_0000357</td>\n",
       "      <td>...</td>\n",
       "      <td>Homo sapiens</td>\n",
       "      <td>Succinate dehydrogenase [ubiquinone] flavoprot...</td>\n",
       "      <td>9606</td>\n",
       "      <td>None</td>\n",
       "      <td>None</td>\n",
       "      <td>IC50</td>\n",
       "      <td>uM</td>\n",
       "      <td>UO_0000065</td>\n",
       "      <td>None</td>\n",
       "      <td>8.19</td>\n",
       "    </tr>\n",
       "    <tr>\n",
       "      <th>1</th>\n",
       "      <td>None</td>\n",
       "      <td>19036388</td>\n",
       "      <td>[]</td>\n",
       "      <td>CHEMBL4350890</td>\n",
       "      <td>Inhibition of SDH-A (unknown origin) by ELISA</td>\n",
       "      <td>B</td>\n",
       "      <td>None</td>\n",
       "      <td>None</td>\n",
       "      <td>BAO_0000190</td>\n",
       "      <td>BAO_0000357</td>\n",
       "      <td>...</td>\n",
       "      <td>Homo sapiens</td>\n",
       "      <td>Succinate dehydrogenase [ubiquinone] flavoprot...</td>\n",
       "      <td>9606</td>\n",
       "      <td>None</td>\n",
       "      <td>None</td>\n",
       "      <td>IC50</td>\n",
       "      <td>uM</td>\n",
       "      <td>UO_0000065</td>\n",
       "      <td>None</td>\n",
       "      <td>30.0</td>\n",
       "    </tr>\n",
       "    <tr>\n",
       "      <th>2</th>\n",
       "      <td>None</td>\n",
       "      <td>19036389</td>\n",
       "      <td>[]</td>\n",
       "      <td>CHEMBL4350890</td>\n",
       "      <td>Inhibition of SDH-A (unknown origin) by ELISA</td>\n",
       "      <td>B</td>\n",
       "      <td>None</td>\n",
       "      <td>None</td>\n",
       "      <td>BAO_0000190</td>\n",
       "      <td>BAO_0000357</td>\n",
       "      <td>...</td>\n",
       "      <td>Homo sapiens</td>\n",
       "      <td>Succinate dehydrogenase [ubiquinone] flavoprot...</td>\n",
       "      <td>9606</td>\n",
       "      <td>None</td>\n",
       "      <td>None</td>\n",
       "      <td>IC50</td>\n",
       "      <td>uM</td>\n",
       "      <td>UO_0000065</td>\n",
       "      <td>None</td>\n",
       "      <td>30.0</td>\n",
       "    </tr>\n",
       "  </tbody>\n",
       "</table>\n",
       "<p>3 rows × 45 columns</p>\n",
       "</div>"
      ],
      "text/plain": [
       "  activity_comment  activity_id activity_properties assay_chembl_id  \\\n",
       "0             None     19036387                  []   CHEMBL4350890   \n",
       "1             None     19036388                  []   CHEMBL4350890   \n",
       "2             None     19036389                  []   CHEMBL4350890   \n",
       "\n",
       "                               assay_description assay_type  \\\n",
       "0  Inhibition of SDH-A (unknown origin) by ELISA          B   \n",
       "1  Inhibition of SDH-A (unknown origin) by ELISA          B   \n",
       "2  Inhibition of SDH-A (unknown origin) by ELISA          B   \n",
       "\n",
       "  assay_variant_accession assay_variant_mutation bao_endpoint   bao_format  \\\n",
       "0                    None                   None  BAO_0000190  BAO_0000357   \n",
       "1                    None                   None  BAO_0000190  BAO_0000357   \n",
       "2                    None                   None  BAO_0000190  BAO_0000357   \n",
       "\n",
       "   ... target_organism                                   target_pref_name  \\\n",
       "0  ...    Homo sapiens  Succinate dehydrogenase [ubiquinone] flavoprot...   \n",
       "1  ...    Homo sapiens  Succinate dehydrogenase [ubiquinone] flavoprot...   \n",
       "2  ...    Homo sapiens  Succinate dehydrogenase [ubiquinone] flavoprot...   \n",
       "\n",
       "  target_tax_id text_value  toid  type  units    uo_units upper_value value  \n",
       "0          9606       None  None  IC50     uM  UO_0000065        None  8.19  \n",
       "1          9606       None  None  IC50     uM  UO_0000065        None  30.0  \n",
       "2          9606       None  None  IC50     uM  UO_0000065        None  30.0  \n",
       "\n",
       "[3 rows x 45 columns]"
      ]
     },
     "execution_count": 6,
     "metadata": {},
     "output_type": "execute_result"
    }
   ],
   "source": [
    "act"
   ]
  },
  {
   "cell_type": "code",
   "execution_count": 7,
   "id": "45e145a1-eeba-4ce0-bdde-b55e91d58ad4",
   "metadata": {},
   "outputs": [
    {
     "name": "stdout",
     "output_type": "stream",
     "text": [
      "CC(=O)NC[C@H]1CN(c2ccc(N3CCOCC3)c(F)c2)C(=O)O1\n",
      "CC(=O)NC[C@H]1CN(c2ccc(N3CCO[C@@]4(CCCOC4)C3)c(F)c2)C(=O)O1\n",
      "CC(=O)NC[C@H]1CN(c2ccc(N3CCO[C@]4(CCCOC4)C3)c(F)c2)C(=O)O1\n"
     ]
    }
   ],
   "source": [
    "for m in act.canonical_smiles:\n",
    "    print (m)"
   ]
  },
  {
   "cell_type": "code",
   "execution_count": 8,
   "id": "a0cdcff3-1740-4c7e-a88c-77682362b92e",
   "metadata": {},
   "outputs": [],
   "source": [
    "# !pip install selfies"
   ]
  },
  {
   "cell_type": "code",
   "execution_count": 9,
   "id": "fa5a977f-63e7-48c4-9e47-c1a8ba1ab52e",
   "metadata": {},
   "outputs": [],
   "source": [
    "# import selfies"
   ]
  },
  {
   "cell_type": "code",
   "execution_count": 10,
   "id": "8583c9d8-7f75-4f02-9c42-dc60e380e67a",
   "metadata": {},
   "outputs": [],
   "source": [
    "# list_of_selfies = []\n",
    "# for m in act.canonical_smiles:\n",
    "#     list_of_selfies.append( selfies.encoder(m))\n",
    "    "
   ]
  },
  {
   "cell_type": "code",
   "execution_count": 11,
   "id": "f56df6e0-7764-4f37-89ed-cb6602702ae7",
   "metadata": {},
   "outputs": [],
   "source": [
    "# list_of_selfies[0]"
   ]
  },
  {
   "cell_type": "code",
   "execution_count": 12,
   "id": "c2db3fe2-468b-4d10-b1aa-dcaa18406b04",
   "metadata": {},
   "outputs": [],
   "source": [
    "list_similar_80 = []\n",
    "for m in act.canonical_smiles:\n",
    "    similarity = new_client.new_client.similarity\n",
    "    res_query = similarity.filter(smiles=m, similarity=80)\n",
    "    res = pd.DataFrame.from_dict(res_query)\n",
    "    list_similar_80.append(res)\n",
    "  "
   ]
  },
  {
   "cell_type": "code",
   "execution_count": 13,
   "id": "34ab0bc5-d799-4d91-84b3-9422b8a252dc",
   "metadata": {},
   "outputs": [],
   "source": [
    "df_similar_80 = pd.concat(list_similar_80)"
   ]
  },
  {
   "cell_type": "code",
   "execution_count": 14,
   "id": "c3ef1f09-cc82-4a46-ab3d-6d3107472ab2",
   "metadata": {},
   "outputs": [
    {
     "name": "stdout",
     "output_type": "stream",
     "text": [
      "atc_classifications\n",
      "availability_type\n",
      "biotherapeutic\n",
      "black_box_warning\n",
      "chebi_par_id\n",
      "chirality\n",
      "cross_references\n",
      "dosed_ingredient\n",
      "first_approval\n",
      "first_in_class\n",
      "helm_notation\n",
      "indication_class\n",
      "inorganic_flag\n",
      "max_phase\n",
      "molecule_chembl_id\n",
      "molecule_hierarchy\n",
      "molecule_properties\n",
      "molecule_structures\n",
      "molecule_type\n",
      "natural_product\n",
      "oral\n",
      "parenteral\n",
      "polymer_flag\n",
      "pref_name\n",
      "prodrug\n",
      "similarity\n",
      "structure_type\n",
      "therapeutic_flag\n",
      "topical\n",
      "usan_stem\n",
      "usan_stem_definition\n",
      "usan_substem\n",
      "usan_year\n",
      "withdrawn_class\n",
      "withdrawn_country\n",
      "withdrawn_flag\n",
      "withdrawn_reason\n",
      "withdrawn_year\n"
     ]
    }
   ],
   "source": [
    "for m in df_similar_80.columns:\n",
    "    print (m)"
   ]
  },
  {
   "cell_type": "code",
   "execution_count": 15,
   "id": "9f0c4d4b-8c2c-45fa-aeeb-dc58b56c1b37",
   "metadata": {},
   "outputs": [
    {
     "name": "stdout",
     "output_type": "stream",
     "text": [
      "CC(=O)NC[C@H]1CN(c2ccc(N3CCOCC3)c(F)c2)C(=O)O1\n",
      "CC(=O)NCC1CN(c2ccc(N3CCOCC3)c(F)c2)C(=O)O1\n",
      "CC(=O)NC[C@@H]1CN(c2ccc(N3CCOCC3)c(F)c2)C(=O)O1\n",
      "CC(=O)NC[C@H]1CN(c2ccc(N3CCCOCC3)c(F)c2)C(=O)O1\n",
      "CC(=O)NC[C@H]1CN(c2ccc(N3CCN(c4ccc(F)cc4)CC3)c(F)c2)C(=O)O1\n",
      "CC(=O)NC[C@H]1CN(c2ccn(-c3ccc(N4CCOCC4)c(F)c3)c2)C(=O)O1\n",
      "CC(=O)NC[C@H]1CN(c2ccc(N3CCN(c4ccccc4)CC3)c(F)c2)C(=O)O1\n",
      "CC(=O)NC[C@H]1CN(c2ccc(N3CCNCC3)c(F)c2)C(=O)O1\n",
      "CC(=O)NC[C@H]1CN(c2ccc(N3CCSCC3)c(F)c2)C(=O)O1\n",
      "CC(=O)NC[C@H]1CN(c2ccc(N3CCO[C@@]4(CCCOC4)C3)c(F)c2)C(=O)O1\n",
      "CC(=O)NC[C@H]1CN(c2ccc(N3CCO[C@]4(CCCOC4)C3)c(F)c2)C(=O)O1\n",
      "CC(=O)NC[C@H]1CN(c2ccc(N3CCOC4(CCCOC4)C3)c(F)c2)C(=O)O1\n",
      "CC(=O)NC[C@H]1CN(c2ccc(N3CCOC4(CCOC4)C3)c(F)c2)C(=O)O1\n",
      "CC(=O)NC[C@H]1CN(c2ccc(N3CCO[C@@]4(CCCOC4)C3)c(F)c2)C(=O)O1\n",
      "CC(=O)NC[C@H]1CN(c2ccc(N3CCO[C@]4(CCCOC4)C3)c(F)c2)C(=O)O1\n",
      "CC(=O)NC[C@H]1CN(c2ccc(N3CCOC4(CCCOC4)C3)c(F)c2)C(=O)O1\n",
      "CC(=O)NC[C@H]1CN(c2ccc(N3CCOC4(CCOC4)C3)c(F)c2)C(=O)O1\n"
     ]
    }
   ],
   "source": [
    "for m in df_similar_80.molecule_structures:\n",
    "    print (m[\"canonical_smiles\"])"
   ]
  },
  {
   "cell_type": "code",
   "execution_count": null,
   "id": "d66b1ce6-24fa-4886-ba87-bfe8162cd293",
   "metadata": {},
   "outputs": [],
   "source": []
  }
 ],
 "metadata": {
  "kernelspec": {
   "display_name": "Python 3 (ipykernel)",
   "language": "python",
   "name": "python3"
  },
  "language_info": {
   "codemirror_mode": {
    "name": "ipython",
    "version": 3
   },
   "file_extension": ".py",
   "mimetype": "text/x-python",
   "name": "python",
   "nbconvert_exporter": "python",
   "pygments_lexer": "ipython3",
   "version": "3.7.10"
  }
 },
 "nbformat": 4,
 "nbformat_minor": 5
}
