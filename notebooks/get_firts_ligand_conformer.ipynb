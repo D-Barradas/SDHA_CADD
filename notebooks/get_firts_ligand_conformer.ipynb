{
 "cells": [
  {
   "cell_type": "code",
   "execution_count": 1,
   "id": "fe7f4f46-9765-4837-8e8e-c9084ce34aec",
   "metadata": {},
   "outputs": [],
   "source": [
    "import os, sys "
   ]
  },
  {
   "cell_type": "code",
   "execution_count": 7,
   "id": "0754512a-9e6e-49cc-9cac-89da45703b23",
   "metadata": {},
   "outputs": [],
   "source": [
    "my_files = open(\"../files/ligand_vina_out_CHEMBL126.pdbqt\").readlines() "
   ]
  },
  {
   "cell_type": "code",
   "execution_count": 44,
   "id": "af65a7ae-bb1b-4edc-a7bf-eb93a027c77b",
   "metadata": {},
   "outputs": [
    {
     "name": "stdout",
     "output_type": "stream",
     "text": [
      "0 0 MODEL 1\n",
      "\n",
      "44\n"
     ]
    }
   ],
   "source": [
    "start , end  = 0,0 \n",
    "counter = 0 \n",
    "\n",
    "for num,x in enumerate( my_files):\n",
    "    if  x == \"MODEL 1\\n\"  :\n",
    "        start = num \n",
    "\n",
    "    if \"ENDMDL\\n\" in x: \n",
    "        if counter == 0 : \n",
    "            end = num \n",
    "            counter +=1 \n",
    "        else : \n",
    "            break\n"
   ]
  },
  {
   "cell_type": "code",
   "execution_count": 50,
   "id": "f739168c-1974-44cf-a2c2-37d0258f887a",
   "metadata": {},
   "outputs": [],
   "source": [
    "model = [ x for x in my_files[start:end] if x[0:4] == \"ATOM\" ]"
   ]
  },
  {
   "cell_type": "code",
   "execution_count": 52,
   "id": "cf6e21ea-8465-4481-b76c-d22b69d755ad",
   "metadata": {},
   "outputs": [
    {
     "name": "stdout",
     "output_type": "stream",
     "text": [
      "['ATOM      1  C1  LIG L   1      44.963  36.049  76.621  1.00  0.00     0.213 C \\n', 'ATOM      2  C2  LIG L   1      45.361  35.127  75.490  1.00  0.00     0.163 C \\n', 'ATOM      3  N1  LIG L   1      45.879  36.036  74.508  1.00  0.00    -0.234 N \\n', 'ATOM      4  C3  LIG L   1      45.415  37.313  74.787  1.00  0.00     0.408 C \\n', 'ATOM      5  O1  LIG L   1      45.532  38.335  74.129  1.00  0.00    -0.226 OA\\n', 'ATOM      6  O2  LIG L   1      44.728  37.308  75.976  1.00  0.00    -0.444 O \\n', 'ATOM      7  C4  LIG L   1      43.713  35.619  77.389  1.00  0.00     0.150 C \\n', 'ATOM      8  N2  LIG L   1      42.716  34.966  76.558  1.00  0.00    -0.312 N \\n', 'ATOM      9  C5  LIG L   1      40.744  33.673  76.055  1.00  0.00     0.109 C \\n', 'ATOM     10  C6  LIG L   1      41.645  34.287  77.090  1.00  0.00     0.210 C \\n', 'ATOM     11  O3  LIG L   1      41.429  34.209  78.294  1.00  0.00    -0.276 OA\\n', 'ATOM     12  H1  LIG L   1      42.811  35.012  75.579  1.00  0.00     0.149 HD\\n', 'ATOM     13  C7  LIG L   1      46.604  35.615  73.363  1.00  0.00     0.042 A \\n', 'ATOM     14  C8  LIG L   1      47.925  36.007  73.136  1.00  0.00     0.025 A \\n', 'ATOM     15  C9  LIG L   1      46.014  34.776  72.413  1.00  0.00     0.063 A \\n', 'ATOM     16 C10  LIG L   1      48.631  35.568  72.003  1.00  0.00     0.028 A \\n', 'ATOM     17 C11  LIG L   1      46.725  34.344  71.286  1.00  0.00     0.146 A \\n', 'ATOM     18 C12  LIG L   1      48.060  34.711  71.050  1.00  0.00     0.066 A \\n', 'ATOM     19  F1  LIG L   1      46.071  33.533  70.439  1.00  0.00    -0.203 F \\n', 'ATOM     20  N3  LIG L   1      48.830  34.319  69.937  1.00  0.00    -0.323 N \\n', 'ATOM     21 C13  LIG L   1      50.216  33.862  70.183  1.00  0.00     0.133 C \\n', 'ATOM     22 C14  LIG L   1      48.765  35.270  68.797  1.00  0.00     0.133 C \\n', 'ATOM     23 C15  LIG L   1      50.812  33.286  68.888  1.00  0.00     0.178 C \\n', 'ATOM     24 C16  LIG L   1      49.441  34.658  67.558  1.00  0.00     0.178 C \\n', 'ATOM     25  O4  LIG L   1      50.793  34.256  67.829  1.00  0.00    -0.377 OA\\n']\n"
     ]
    }
   ],
   "source": [
    "print ( model ) "
   ]
  },
  {
   "cell_type": "code",
   "execution_count": 53,
   "id": "f0387e98-7000-4cd9-b539-cb17560db838",
   "metadata": {},
   "outputs": [],
   "source": [
    "    target_classifiers = ['CONSRANK_val', 'CP_HLPL', 'CP_MJ3h', 'DDG_V', 'CP_RMFCA', 'AP_GOAP_DF', 'CP_Qp', \n",
    "                        'CP_TD', 'CP_SKOIP', 'CP_TB', 'CP_TSC', 'PYDOCK_TOT', 'SIPPER', 'CP_BT','CP_MJ2h',\n",
    "                        'AP_DFIRE2','CP_RMFCEN1','AP_DARS','AP_PISA','BSA_Apolar','CP_BFKV','AP_dDFIRE','CP_RMFCEN2',\n",
    "                        'CP_ZS3DC_MIN','AP_DDG_U', 'AP_DDG_W','cips_AlAr','CP_MJPL','CP_SKOb','CP_TEl','CP_TS',\n",
    "                        'PROPNSTS','AP_MPS','CP_D1','FIREDOCK','AlAr','ArAr']#,'NNC','RFC','TF2']"
   ]
  },
  {
   "cell_type": "code",
   "execution_count": 54,
   "id": "83ab7775-984a-48f7-a519-0876ba59651c",
   "metadata": {},
   "outputs": [
    {
     "data": {
      "text/plain": [
       "37"
      ]
     },
     "execution_count": 54,
     "metadata": {},
     "output_type": "execute_result"
    }
   ],
   "source": [
    "len (target_classifiers)"
   ]
  },
  {
   "cell_type": "code",
   "execution_count": null,
   "id": "c7709ce7-6b81-4255-af9a-6527c6b250dc",
   "metadata": {},
   "outputs": [],
   "source": []
  }
 ],
 "metadata": {
  "kernelspec": {
   "display_name": "Python 3 (ipykernel)",
   "language": "python",
   "name": "python3"
  },
  "language_info": {
   "codemirror_mode": {
    "name": "ipython",
    "version": 3
   },
   "file_extension": ".py",
   "mimetype": "text/x-python",
   "name": "python",
   "nbconvert_exporter": "python",
   "pygments_lexer": "ipython3",
   "version": "3.7.10"
  }
 },
 "nbformat": 4,
 "nbformat_minor": 5
}
