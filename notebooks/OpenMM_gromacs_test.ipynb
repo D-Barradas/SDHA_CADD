{
 "cells": [
  {
   "cell_type": "code",
   "execution_count": 1,
   "id": "028278fa-6d3d-41a2-85d5-03da709c1c11",
   "metadata": {},
   "outputs": [],
   "source": [
    "from openmm.app import *\n",
    "from openmm import *\n",
    "from openmm.unit import *\n",
    "from sys import stdout"
   ]
  },
  {
   "cell_type": "code",
   "execution_count": 2,
   "id": "2cb40c15-e053-4466-a56a-ea1e224f2a4c",
   "metadata": {},
   "outputs": [],
   "source": [
    "#pdb = PDBFile('../files/receptor_md_fixed.pdb')"
   ]
  },
  {
   "cell_type": "code",
   "execution_count": 3,
   "id": "b79b2289-a9bf-4120-93bf-9da7e3dffaa1",
   "metadata": {},
   "outputs": [],
   "source": [
    "#forcefield = ForceField('amber99sb.xml', 'spce.xml')"
   ]
  },
  {
   "cell_type": "code",
   "execution_count": 4,
   "id": "5a2a09f7-f425-4b3c-b658-f026615588c0",
   "metadata": {},
   "outputs": [],
   "source": [
    "#modeller = Modeller(pdb.topology, pdb.positions)"
   ]
  },
  {
   "cell_type": "code",
   "execution_count": 5,
   "id": "6160e38a-3e50-422d-a555-bc4d41a7fa47",
   "metadata": {},
   "outputs": [],
   "source": [
    "#print('Adding hydrogens...')\n",
    "#modeller.addHydrogens(forcefield)"
   ]
  },
  {
   "cell_type": "code",
   "execution_count": 6,
   "id": "d703126f-485b-437e-b35d-0e9e5c01c0b9",
   "metadata": {},
   "outputs": [],
   "source": [
    "gro = GromacsGroFile('../files/ligand_vina_out_CHEMBL126/Receptor_ligand_vina_out_CHEMBL126_solvate.gro')"
   ]
  },
  {
   "cell_type": "code",
   "execution_count": 7,
   "id": "ac26ccc7-c1a5-4416-92eb-76055d325cfa",
   "metadata": {},
   "outputs": [
    {
     "data": {
      "text/plain": [
       "Quantity(value=(Vec3(x=10.09688, y=0.0, z=0.0), Vec3(x=3.36563, y=9.51943, z=0.0), Vec3(x=-3.36563, y=4.75971, z=8.24407)), unit=nanometer)"
      ]
     },
     "execution_count": 7,
     "metadata": {},
     "output_type": "execute_result"
    }
   ],
   "source": [
    "gro.getPeriodicBoxVectors()"
   ]
  },
  {
   "cell_type": "code",
   "execution_count": 8,
   "id": "69ec5574-a503-415e-86ad-d9e52c487577",
   "metadata": {},
   "outputs": [],
   "source": [
    "top = GromacsTopFile('../files/ligand_vina_out_CHEMBL126/ligand.top', \n",
    "                     periodicBoxVectors=gro.getPeriodicBoxVectors(),\n",
    "                     includeDir='/Users/barradd/anaconda3/envs/biobb_Protein-Complex_MDsetup_tutorial/share/gromacs/top/')"
   ]
  },
  {
   "cell_type": "code",
   "execution_count": 9,
   "id": "9381b2be-0389-477b-8983-595fe7c96947",
   "metadata": {},
   "outputs": [],
   "source": [
    "system = top.createSystem(nonbondedMethod=PME, nonbondedCutoff=1*nanometer,\n",
    "        constraints=HBonds)"
   ]
  },
  {
   "cell_type": "code",
   "execution_count": 10,
   "id": "a3d4a8b2-c85b-4422-a0b5-4b786510fd9d",
   "metadata": {},
   "outputs": [],
   "source": [
    "#ntegrator = LangevinMiddleIntegrator(300*kelvin, 1/picosecond, 0.004*picoseconds)\n",
    "integrator = VerletIntegrator(0.001*picoseconds)\n",
    "simulation = Simulation(top.topology, system, integrator)\n"
   ]
  },
  {
   "cell_type": "code",
   "execution_count": 11,
   "id": "3cc142d8-8b83-45a1-8195-8d212393e274",
   "metadata": {},
   "outputs": [],
   "source": [
    "%%time\n",
    "simulation.context.setPositions(gro.positions)\n",
    "simulation.minimizeEnergy()"
   ]
  },
  {
   "cell_type": "code",
   "execution_count": 12,
   "id": "c731bde6-f38f-48ea-94ad-49acf381ec0f",
   "metadata": {},
   "outputs": [
    {
     "name": "stdout",
     "output_type": "stream",
     "text": [
      "#\"Step\",\"Potential Energy (kJ/mole)\",\"Temperature (K)\"\n",
      "1000,-1381788.574280452,3.579783848921808\n",
      "2000,-1383820.324280452,6.615613462939875\n",
      "3000,-1385475.324280452,9.104229231901869\n",
      "4000,-1386712.574280452,10.94632174245593\n",
      "5000,-1387584.324280452,12.2503156174338\n",
      "6000,-1388352.324280452,13.387448476927228\n",
      "7000,-1388840.074280452,14.109304091827743\n",
      "8000,-1389264.324280452,14.767978238952535\n",
      "9000,-1389673.074280452,15.365528674838014\n",
      "10000,-1390059.824280452,15.931293088193813\n",
      "CPU times: user 21.4 s, sys: 23.7 s, total: 45.1 s\n",
      "Wall time: 15min 40s\n"
     ]
    }
   ],
   "source": [
    "%%time\n",
    "simulation.reporters.append(PDBReporter('../files/OpenMM_output.pdb', 1000))\n",
    "simulation.reporters.append(StateDataReporter(stdout, 1000, step=True,\n",
    "        potentialEnergy=True, temperature=True))\n",
    "simulation.step(10000)"
   ]
  },
  {
   "cell_type": "code",
   "execution_count": 25,
   "id": "e254d769-00db-4f74-beaf-acef90ddeb71",
   "metadata": {},
   "outputs": [],
   "source": [
    "# modeller = Modeller(top.topology, gro.getPositions)\n"
   ]
  },
  {
   "cell_type": "code",
   "execution_count": null,
   "id": "e158c823-7db2-425e-a4c6-c175b78de979",
   "metadata": {},
   "outputs": [],
   "source": []
  },
  {
   "cell_type": "code",
   "execution_count": 27,
   "id": "55806630-2cc3-4487-a7d0-3279183a5955",
   "metadata": {},
   "outputs": [],
   "source": [
    "# forcefield = ForceField('amber99sbildn.xml', 'spce.xml')"
   ]
  },
  {
   "cell_type": "code",
   "execution_count": 28,
   "id": "c9128fa9-6baf-4053-b514-f840dab866e2",
   "metadata": {},
   "outputs": [
    {
     "ename": "ValueError",
     "evalue": "No template found for residue 591 (LIG).  This might mean your input topology is missing some atoms or bonds, or possibly that you are using the wrong force field.",
     "output_type": "error",
     "traceback": [
      "\u001b[0;31m---------------------------------------------------------------------------\u001b[0m",
      "\u001b[0;31mValueError\u001b[0m                                Traceback (most recent call last)",
      "\u001b[0;32m/var/folders/09/6s13jk_x7k7cgbxb5v02skyc14v44f/T/ipykernel_6450/1958756913.py\u001b[0m in \u001b[0;36m<module>\u001b[0;34m\u001b[0m\n\u001b[0;32m----> 1\u001b[0;31m \u001b[0mmodeller\u001b[0m\u001b[0;34m.\u001b[0m\u001b[0maddSolvent\u001b[0m\u001b[0;34m(\u001b[0m\u001b[0mforcefield\u001b[0m\u001b[0;34m,\u001b[0m \u001b[0mionicStrength\u001b[0m\u001b[0;34m=\u001b[0m\u001b[0;36m0.1\u001b[0m\u001b[0;34m*\u001b[0m\u001b[0mmolar\u001b[0m\u001b[0;34m)\u001b[0m\u001b[0;34m\u001b[0m\u001b[0;34m\u001b[0m\u001b[0m\n\u001b[0m",
      "\u001b[0;32m~/anaconda3/envs/OpenMM/lib/python3.9/site-packages/openmm/app/modeller.py\u001b[0m in \u001b[0;36maddSolvent\u001b[0;34m(self, forcefield, model, boxSize, boxVectors, padding, numAdded, positiveIon, negativeIon, ionicStrength, neutralize)\u001b[0m\n\u001b[1;32m    481\u001b[0m         \u001b[0;31m# Have the ForceField build a System for the solute from which we can determine van der Waals radii.\u001b[0m\u001b[0;34m\u001b[0m\u001b[0;34m\u001b[0m\u001b[0;34m\u001b[0m\u001b[0m\n\u001b[1;32m    482\u001b[0m \u001b[0;34m\u001b[0m\u001b[0m\n\u001b[0;32m--> 483\u001b[0;31m         \u001b[0msystem\u001b[0m \u001b[0;34m=\u001b[0m \u001b[0mforcefield\u001b[0m\u001b[0;34m.\u001b[0m\u001b[0mcreateSystem\u001b[0m\u001b[0;34m(\u001b[0m\u001b[0mself\u001b[0m\u001b[0;34m.\u001b[0m\u001b[0mtopology\u001b[0m\u001b[0;34m)\u001b[0m\u001b[0;34m\u001b[0m\u001b[0;34m\u001b[0m\u001b[0m\n\u001b[0m\u001b[1;32m    484\u001b[0m         \u001b[0mnonbonded\u001b[0m \u001b[0;34m=\u001b[0m \u001b[0;32mNone\u001b[0m\u001b[0;34m\u001b[0m\u001b[0;34m\u001b[0m\u001b[0m\n\u001b[1;32m    485\u001b[0m         \u001b[0;32mfor\u001b[0m \u001b[0mi\u001b[0m \u001b[0;32min\u001b[0m \u001b[0mrange\u001b[0m\u001b[0;34m(\u001b[0m\u001b[0msystem\u001b[0m\u001b[0;34m.\u001b[0m\u001b[0mgetNumForces\u001b[0m\u001b[0;34m(\u001b[0m\u001b[0;34m)\u001b[0m\u001b[0;34m)\u001b[0m\u001b[0;34m:\u001b[0m\u001b[0;34m\u001b[0m\u001b[0;34m\u001b[0m\u001b[0m\n",
      "\u001b[0;32m~/anaconda3/envs/OpenMM/lib/python3.9/site-packages/openmm/app/forcefield.py\u001b[0m in \u001b[0;36mcreateSystem\u001b[0;34m(self, topology, nonbondedMethod, nonbondedCutoff, constraints, rigidWater, removeCMMotion, hydrogenMass, residueTemplates, ignoreExternalBonds, switchDistance, flexibleConstraints, drudeMass, **args)\u001b[0m\n\u001b[1;32m   1204\u001b[0m         \u001b[0;31m# Find the template matching each residue and assign atom types.\u001b[0m\u001b[0;34m\u001b[0m\u001b[0;34m\u001b[0m\u001b[0;34m\u001b[0m\u001b[0m\n\u001b[1;32m   1205\u001b[0m \u001b[0;34m\u001b[0m\u001b[0m\n\u001b[0;32m-> 1206\u001b[0;31m         \u001b[0mtemplateForResidue\u001b[0m \u001b[0;34m=\u001b[0m \u001b[0mself\u001b[0m\u001b[0;34m.\u001b[0m\u001b[0m_matchAllResiduesToTemplates\u001b[0m\u001b[0;34m(\u001b[0m\u001b[0mdata\u001b[0m\u001b[0;34m,\u001b[0m \u001b[0mtopology\u001b[0m\u001b[0;34m,\u001b[0m \u001b[0mresidueTemplates\u001b[0m\u001b[0;34m,\u001b[0m \u001b[0mignoreExternalBonds\u001b[0m\u001b[0;34m)\u001b[0m\u001b[0;34m\u001b[0m\u001b[0;34m\u001b[0m\u001b[0m\n\u001b[0m\u001b[1;32m   1207\u001b[0m         \u001b[0;32mfor\u001b[0m \u001b[0mres\u001b[0m \u001b[0;32min\u001b[0m \u001b[0mtopology\u001b[0m\u001b[0;34m.\u001b[0m\u001b[0mresidues\u001b[0m\u001b[0;34m(\u001b[0m\u001b[0;34m)\u001b[0m\u001b[0;34m:\u001b[0m\u001b[0;34m\u001b[0m\u001b[0;34m\u001b[0m\u001b[0m\n\u001b[1;32m   1208\u001b[0m             \u001b[0;32mif\u001b[0m \u001b[0mres\u001b[0m\u001b[0;34m.\u001b[0m\u001b[0mname\u001b[0m \u001b[0;34m==\u001b[0m \u001b[0;34m'HOH'\u001b[0m\u001b[0;34m:\u001b[0m\u001b[0;34m\u001b[0m\u001b[0;34m\u001b[0m\u001b[0m\n",
      "\u001b[0;32m~/anaconda3/envs/OpenMM/lib/python3.9/site-packages/openmm/app/forcefield.py\u001b[0m in \u001b[0;36m_matchAllResiduesToTemplates\u001b[0;34m(self, data, topology, residueTemplates, ignoreExternalBonds, ignoreExtraParticles, recordParameters)\u001b[0m\n\u001b[1;32m   1418\u001b[0m                             \u001b[0;32mbreak\u001b[0m\u001b[0;34m\u001b[0m\u001b[0;34m\u001b[0m\u001b[0m\n\u001b[1;32m   1419\u001b[0m             \u001b[0;32mif\u001b[0m \u001b[0mmatches\u001b[0m \u001b[0;32mis\u001b[0m \u001b[0;32mNone\u001b[0m\u001b[0;34m:\u001b[0m\u001b[0;34m\u001b[0m\u001b[0;34m\u001b[0m\u001b[0m\n\u001b[0;32m-> 1420\u001b[0;31m                 \u001b[0;32mraise\u001b[0m \u001b[0mValueError\u001b[0m\u001b[0;34m(\u001b[0m\u001b[0;34m'No template found for residue %d (%s).  %s'\u001b[0m \u001b[0;34m%\u001b[0m \u001b[0;34m(\u001b[0m\u001b[0mres\u001b[0m\u001b[0;34m.\u001b[0m\u001b[0mindex\u001b[0m\u001b[0;34m+\u001b[0m\u001b[0;36m1\u001b[0m\u001b[0;34m,\u001b[0m \u001b[0mres\u001b[0m\u001b[0;34m.\u001b[0m\u001b[0mname\u001b[0m\u001b[0;34m,\u001b[0m \u001b[0m_findMatchErrors\u001b[0m\u001b[0;34m(\u001b[0m\u001b[0mself\u001b[0m\u001b[0;34m,\u001b[0m \u001b[0mres\u001b[0m\u001b[0;34m)\u001b[0m\u001b[0;34m)\u001b[0m\u001b[0;34m)\u001b[0m\u001b[0;34m\u001b[0m\u001b[0;34m\u001b[0m\u001b[0m\n\u001b[0m\u001b[1;32m   1421\u001b[0m             \u001b[0;32melse\u001b[0m\u001b[0;34m:\u001b[0m\u001b[0;34m\u001b[0m\u001b[0;34m\u001b[0m\u001b[0m\n\u001b[1;32m   1422\u001b[0m                 \u001b[0;32mif\u001b[0m \u001b[0mrecordParameters\u001b[0m\u001b[0;34m:\u001b[0m\u001b[0;34m\u001b[0m\u001b[0;34m\u001b[0m\u001b[0m\n",
      "\u001b[0;31mValueError\u001b[0m: No template found for residue 591 (LIG).  This might mean your input topology is missing some atoms or bonds, or possibly that you are using the wrong force field."
     ]
    }
   ],
   "source": [
    "# modeller.addSolvent(forcefield, ionicStrength=0.1*molar)"
   ]
  },
  {
   "cell_type": "code",
   "execution_count": null,
   "id": "c3384bbe-8fb1-4ebc-9344-171724e49067",
   "metadata": {},
   "outputs": [],
   "source": []
  }
 ],
 "metadata": {
  "kernelspec": {
   "display_name": "Python 3 (ipykernel)",
   "language": "python",
   "name": "python3"
  },
  "language_info": {
   "codemirror_mode": {
    "name": "ipython",
    "version": 3
   },
   "file_extension": ".py",
   "mimetype": "text/x-python",
   "name": "python",
   "nbconvert_exporter": "python",
   "pygments_lexer": "ipython3",
   "version": "3.7.10"
  }
 },
 "nbformat": 4,
 "nbformat_minor": 5
}
