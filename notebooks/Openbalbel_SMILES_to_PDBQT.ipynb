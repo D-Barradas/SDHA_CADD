{
 "cells": [
  {
   "cell_type": "code",
   "execution_count": 1,
   "id": "bb8a8da4-7ad6-4038-adb3-3a8cd40b6ad8",
   "metadata": {},
   "outputs": [
    {
     "name": "stdout",
     "output_type": "stream",
     "text": [
      "Should print 0 (atoms)\n",
      "0\n",
      "Should print 2 (atoms)\n",
      "2\n",
      "Should print 1 (bond)\n",
      "1\n"
     ]
    }
   ],
   "source": [
    "from openbabel import openbabel\n",
    "\n",
    "mol = openbabel.OBMol()\n",
    "print ('Should print 0 (atoms)')\n",
    "print (mol.NumAtoms())\n",
    "\n",
    "a = mol.NewAtom()\n",
    "a.SetAtomicNum(6)   # carbon atom\n",
    "a.SetVector(0.0, 1.0, 2.0) # coordinates\n",
    "\n",
    "b = mol.NewAtom()\n",
    "mol.AddBond(1, 2, 1)   # atoms indexed from 1\n",
    "print (\"Should print 2 (atoms)\")\n",
    "print (mol.NumAtoms())\n",
    "print ('Should print 1 (bond)')\n",
    "print (mol.NumBonds())\n",
    "\n",
    "mol.Clear();\n"
   ]
  },
  {
   "cell_type": "code",
   "execution_count": 2,
   "id": "f12533d5-d702-41d1-a69e-63beeaaf2b98",
   "metadata": {},
   "outputs": [
    {
     "data": {
      "text/plain": [
       "True"
      ]
     },
     "execution_count": 2,
     "metadata": {},
     "output_type": "execute_result"
    }
   ],
   "source": [
    "obConversion = openbabel.OBConversion()\n",
    "obConversion.SetInAndOutFormats(\"smiles\", \"pdbqt\")\n"
   ]
  },
  {
   "cell_type": "code",
   "execution_count": 3,
   "id": "af55a146-6eac-4447-b7bb-42fe089807e8",
   "metadata": {},
   "outputs": [
    {
     "data": {
      "text/plain": [
       "True"
      ]
     },
     "execution_count": 3,
     "metadata": {},
     "output_type": "execute_result"
    }
   ],
   "source": [
    "mol = openbabel.OBMol()\n",
    "obConversion.ReadString(mol, \"CC(=O)NC[C@H]1CN(c2ccc(N3CCOC4(CCOC4)C3)c(F)c2)C(=O)O1\")\n"
   ]
  },
  {
   "cell_type": "code",
   "execution_count": 4,
   "id": "09471542-8966-4321-81df-e6fe9f6cfbad",
   "metadata": {},
   "outputs": [
    {
     "data": {
      "text/plain": [
       "True"
      ]
     },
     "execution_count": 4,
     "metadata": {},
     "output_type": "execute_result"
    }
   ],
   "source": [
    "mol.AddHydrogens()"
   ]
  },
  {
   "cell_type": "code",
   "execution_count": 5,
   "id": "a036c9a4-b985-4032-a555-1f5d21b858b6",
   "metadata": {},
   "outputs": [
    {
     "data": {
      "text/plain": [
       "False"
      ]
     },
     "execution_count": 5,
     "metadata": {},
     "output_type": "execute_result"
    }
   ],
   "source": [
    "mol.Has3D()"
   ]
  },
  {
   "cell_type": "code",
   "execution_count": 6,
   "id": "1e5ef161-4f3b-4b01-b142-ac34d9090e93",
   "metadata": {},
   "outputs": [
    {
     "data": {
      "text/plain": [
       "True"
      ]
     },
     "execution_count": 6,
     "metadata": {},
     "output_type": "execute_result"
    }
   ],
   "source": [
    "mol.CorrectForPH()"
   ]
  },
  {
   "cell_type": "code",
   "execution_count": 7,
   "id": "ec691297-f95e-4729-9612-89d3a0223fb0",
   "metadata": {},
   "outputs": [],
   "source": [
    "#mol.GetConformers()"
   ]
  },
  {
   "cell_type": "code",
   "execution_count": 8,
   "id": "c257707e-6bec-44d4-8c45-3d29a56a0775",
   "metadata": {},
   "outputs": [],
   "source": [
    "#type(mol)"
   ]
  },
  {
   "cell_type": "code",
   "execution_count": 9,
   "id": "0ba44c66-e774-40c1-b65e-2b23d820a1ee",
   "metadata": {},
   "outputs": [],
   "source": [
    "#mol.GetConformer(0)"
   ]
  },
  {
   "cell_type": "code",
   "execution_count": 10,
   "id": "74c22de2-eee1-42f0-a983-16a0438b5d01",
   "metadata": {},
   "outputs": [],
   "source": [
    "#mol"
   ]
  },
  {
   "cell_type": "code",
   "execution_count": 11,
   "id": "0fce9b2e-8a1f-49aa-be61-c25f106aa053",
   "metadata": {},
   "outputs": [],
   "source": [
    "#obConversion.WriteFile(mol.GetConformer(2), \"../files/ligand_babel.pdbqt\")"
   ]
  },
  {
   "cell_type": "code",
   "execution_count": 12,
   "id": "1722a0a9-cfec-4763-a812-5a79fa23e65f",
   "metadata": {},
   "outputs": [],
   "source": [
    "from openbabel import pybel"
   ]
  },
  {
   "cell_type": "code",
   "execution_count": 13,
   "id": "a126ef25-3575-4e7f-8035-0c14e91e0078",
   "metadata": {},
   "outputs": [],
   "source": [
    "mol = pybel.Molecule(mol)"
   ]
  },
  {
   "cell_type": "code",
   "execution_count": 14,
   "id": "1009a1f1-7c36-486b-924f-ee8afe4a0194",
   "metadata": {},
   "outputs": [],
   "source": [
    "mol.make3D()"
   ]
  },
  {
   "cell_type": "code",
   "execution_count": null,
   "id": "d6aeaca5-7431-442e-925f-7513e9bfb6a5",
   "metadata": {},
   "outputs": [],
   "source": []
  },
  {
   "cell_type": "code",
   "execution_count": 15,
   "id": "01b58be2-e712-411a-bf8b-4b9c15c491e6",
   "metadata": {},
   "outputs": [],
   "source": [
    "output = pybel.Outputfile(\"pdbqt\", \"../files/ligand_babel.pdbqt\",\"overwrite=True\")\n",
    "output.write(mol)\n",
    "output.close()"
   ]
  },
  {
   "cell_type": "code",
   "execution_count": null,
   "id": "946455d8-fe5e-421f-b782-adf66499843a",
   "metadata": {},
   "outputs": [],
   "source": []
  }
 ],
 "metadata": {
  "kernelspec": {
   "display_name": "Python 3 (ipykernel)",
   "language": "python",
   "name": "python3"
  },
  "language_info": {
   "codemirror_mode": {
    "name": "ipython",
    "version": 3
   },
   "file_extension": ".py",
   "mimetype": "text/x-python",
   "name": "python",
   "nbconvert_exporter": "python",
   "pygments_lexer": "ipython3",
   "version": "3.7.11"
  }
 },
 "nbformat": 4,
 "nbformat_minor": 5
}
