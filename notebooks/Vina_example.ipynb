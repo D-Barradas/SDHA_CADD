{
 "cells": [
  {
   "cell_type": "code",
   "execution_count": 1,
   "id": "9f8593fa-cddd-4b07-be91-95cb7217cc92",
   "metadata": {},
   "outputs": [],
   "source": [
    "from vina import Vina\n",
    "from rdkit.Chem.rdMolTransforms import ComputeCentroid\n",
    "\n",
    "\n",
    "v = Vina(sf_name='vina',)\n",
    "\n",
    "v.set_receptor('../files/receptor_docking.pdbqt')\n",
    "\n",
    "v.set_ligand_from_file('../files/pdb_test_prepared.pdbqt')\n"
   ]
  },
  {
   "cell_type": "code",
   "execution_count": 2,
   "id": "e22a2311-bdbe-4013-9fe3-f40884138239",
   "metadata": {},
   "outputs": [
    {
     "name": "stdout",
     "output_type": "stream",
     "text": [
      "Computing Vina grid ... done.\n"
     ]
    }
   ],
   "source": [
    "#postion of the malonate \n",
    "v.compute_vina_maps(center=[41.97742857142857,33.431285714285714,77.58557142857141], box_size=[20, 20, 20])"
   ]
  },
  {
   "cell_type": "code",
   "execution_count": 3,
   "id": "b9856dcc-f95a-44f5-a9f3-6f74e9fc0c77",
   "metadata": {},
   "outputs": [
    {
     "name": "stdout",
     "output_type": "stream",
     "text": [
      "Score before minimization: 2782613147.842 (kcal/mol)\n",
      "Score after minimization : 2782613147.842 (kcal/mol)\n",
      "Performing local search ... done.\n",
      "Performing docking (random seed: 1628682992) ... \n",
      "0%   10   20   30   40   50   60   70   80   90   100%\n",
      "|----|----|----|----|----|----|----|----|----|----|\n",
      "***************************************************\n"
     ]
    }
   ],
   "source": [
    "# Score the current pose\n",
    "energy = v.score()\n",
    "print('Score before minimization: %.3f (kcal/mol)' % energy[0])\n",
    "\n",
    "# Minimized locally the current pose\n",
    "energy_minimized = v.optimize()\n",
    "print('Score after minimization : %.3f (kcal/mol)' % energy_minimized[0])\n",
    "v.write_pose('../files/ligand_minimized.pdbqt', overwrite=True)\n",
    "\n",
    "# Dock the ligand\n",
    "v.dock(exhaustiveness=32, n_poses=20)\n",
    "v.write_poses('../files/ligand_vina_out.pdbqt', n_poses=5, overwrite=True)"
   ]
  },
  {
   "cell_type": "code",
   "execution_count": 4,
   "id": "9888a2d0-0763-44d5-a47b-220aa0c56f33",
   "metadata": {},
   "outputs": [
    {
     "data": {
      "text/plain": [
       "{'rigid_receptor': '../files/receptor_docking.pdbqt',\n",
       " 'flex_receptor': None,\n",
       " 'ligands': ['../files/pdb_test_prepared.pdbqt'],\n",
       " 'scoring_function': 'vina',\n",
       " 'weights': (-0.035579,\n",
       "  -0.005156,\n",
       "  0.840245,\n",
       "  -0.035069,\n",
       "  -0.587439,\n",
       "  50,\n",
       "  0.05846),\n",
       " 'no_refine': False,\n",
       " 'box_center': [41.97742857142857, 33.431285714285714, 77.58557142857141],\n",
       " 'box_size': [20, 20, 20],\n",
       " 'box_spacing': 0.375,\n",
       " 'box_even_elements': True,\n",
       " 'seed': 1628682992}"
      ]
     },
     "execution_count": 4,
     "metadata": {},
     "output_type": "execute_result"
    }
   ],
   "source": [
    "v.info()"
   ]
  },
  {
   "cell_type": "code",
   "execution_count": null,
   "id": "a4a85933-7bd4-4f4a-acb8-979d4d5c9916",
   "metadata": {},
   "outputs": [],
   "source": []
  }
 ],
 "metadata": {
  "kernelspec": {
   "display_name": "Python 3 (ipykernel)",
   "language": "python",
   "name": "python3"
  },
  "language_info": {
   "codemirror_mode": {
    "name": "ipython",
    "version": 3
   },
   "file_extension": ".py",
   "mimetype": "text/x-python",
   "name": "python",
   "nbconvert_exporter": "python",
   "pygments_lexer": "ipython3",
   "version": "3.7.11"
  }
 },
 "nbformat": 4,
 "nbformat_minor": 5
}
