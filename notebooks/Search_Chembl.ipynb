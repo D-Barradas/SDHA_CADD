{
 "cells": [
  {
   "cell_type": "code",
   "execution_count": 1,
   "id": "94d3a120-1788-46be-80fe-58ec82ad769e",
   "metadata": {},
   "outputs": [],
   "source": [
    "import pandas as pd \n",
    "from chembl_webresource_client import new_client"
   ]
  },
  {
   "cell_type": "code",
   "execution_count": 2,
   "id": "42119424-4791-4aba-ba87-7fe446376eb8",
   "metadata": {},
   "outputs": [
    {
     "data": {
      "text/html": [
       "<div>\n",
       "<style scoped>\n",
       "    .dataframe tbody tr th:only-of-type {\n",
       "        vertical-align: middle;\n",
       "    }\n",
       "\n",
       "    .dataframe tbody tr th {\n",
       "        vertical-align: top;\n",
       "    }\n",
       "\n",
       "    .dataframe thead th {\n",
       "        text-align: right;\n",
       "    }\n",
       "</style>\n",
       "<table border=\"1\" class=\"dataframe\">\n",
       "  <thead>\n",
       "    <tr style=\"text-align: right;\">\n",
       "      <th></th>\n",
       "      <th>cross_references</th>\n",
       "      <th>organism</th>\n",
       "      <th>pref_name</th>\n",
       "      <th>score</th>\n",
       "      <th>species_group_flag</th>\n",
       "      <th>target_chembl_id</th>\n",
       "      <th>target_components</th>\n",
       "      <th>target_type</th>\n",
       "      <th>tax_id</th>\n",
       "    </tr>\n",
       "  </thead>\n",
       "  <tbody>\n",
       "    <tr>\n",
       "      <th>0</th>\n",
       "      <td>[]</td>\n",
       "      <td>Rattus norvegicus</td>\n",
       "      <td>Succinate dehydrogenase [ubiquinone] flavoprot...</td>\n",
       "      <td>16.0</td>\n",
       "      <td>False</td>\n",
       "      <td>CHEMBL4523415</td>\n",
       "      <td>[{'accession': 'Q920L2', 'component_descriptio...</td>\n",
       "      <td>SINGLE PROTEIN</td>\n",
       "      <td>10116</td>\n",
       "    </tr>\n",
       "    <tr>\n",
       "      <th>1</th>\n",
       "      <td>[{'xref_id': 'P31040', 'xref_name': None, 'xre...</td>\n",
       "      <td>Homo sapiens</td>\n",
       "      <td>Succinate dehydrogenase [ubiquinone] flavoprot...</td>\n",
       "      <td>15.0</td>\n",
       "      <td>False</td>\n",
       "      <td>CHEMBL5758</td>\n",
       "      <td>[{'accession': 'P31040', 'component_descriptio...</td>\n",
       "      <td>SINGLE PROTEIN</td>\n",
       "      <td>9606</td>\n",
       "    </tr>\n",
       "  </tbody>\n",
       "</table>\n",
       "</div>"
      ],
      "text/plain": [
       "                                    cross_references           organism  \\\n",
       "0                                                 []  Rattus norvegicus   \n",
       "1  [{'xref_id': 'P31040', 'xref_name': None, 'xre...       Homo sapiens   \n",
       "\n",
       "                                           pref_name  score  \\\n",
       "0  Succinate dehydrogenase [ubiquinone] flavoprot...   16.0   \n",
       "1  Succinate dehydrogenase [ubiquinone] flavoprot...   15.0   \n",
       "\n",
       "   species_group_flag target_chembl_id  \\\n",
       "0               False    CHEMBL4523415   \n",
       "1               False       CHEMBL5758   \n",
       "\n",
       "                                   target_components     target_type  tax_id  \n",
       "0  [{'accession': 'Q920L2', 'component_descriptio...  SINGLE PROTEIN   10116  \n",
       "1  [{'accession': 'P31040', 'component_descriptio...  SINGLE PROTEIN    9606  "
      ]
     },
     "execution_count": 2,
     "metadata": {},
     "output_type": "execute_result"
    }
   ],
   "source": [
    "target = new_client.new_client.target\n",
    "target_query = target.search('SDHA')\n",
    "targets = pd.DataFrame.from_dict(target_query)\n",
    "targets"
   ]
  },
  {
   "cell_type": "code",
   "execution_count": 3,
   "id": "9d0cd7c6-8093-4a93-994e-9d163d651487",
   "metadata": {},
   "outputs": [
    {
     "data": {
      "text/html": [
       "<div>\n",
       "<style scoped>\n",
       "    .dataframe tbody tr th:only-of-type {\n",
       "        vertical-align: middle;\n",
       "    }\n",
       "\n",
       "    .dataframe tbody tr th {\n",
       "        vertical-align: top;\n",
       "    }\n",
       "\n",
       "    .dataframe thead th {\n",
       "        text-align: right;\n",
       "    }\n",
       "</style>\n",
       "<table border=\"1\" class=\"dataframe\">\n",
       "  <thead>\n",
       "    <tr style=\"text-align: right;\">\n",
       "      <th></th>\n",
       "      <th>atc_classifications</th>\n",
       "      <th>availability_type</th>\n",
       "      <th>biotherapeutic</th>\n",
       "      <th>black_box_warning</th>\n",
       "      <th>chebi_par_id</th>\n",
       "      <th>chirality</th>\n",
       "      <th>cross_references</th>\n",
       "      <th>dosed_ingredient</th>\n",
       "      <th>first_approval</th>\n",
       "      <th>first_in_class</th>\n",
       "      <th>...</th>\n",
       "      <th>topical</th>\n",
       "      <th>usan_stem</th>\n",
       "      <th>usan_stem_definition</th>\n",
       "      <th>usan_substem</th>\n",
       "      <th>usan_year</th>\n",
       "      <th>withdrawn_class</th>\n",
       "      <th>withdrawn_country</th>\n",
       "      <th>withdrawn_flag</th>\n",
       "      <th>withdrawn_reason</th>\n",
       "      <th>withdrawn_year</th>\n",
       "    </tr>\n",
       "  </thead>\n",
       "  <tbody>\n",
       "    <tr>\n",
       "      <th>0</th>\n",
       "      <td>[]</td>\n",
       "      <td>-1</td>\n",
       "      <td>None</td>\n",
       "      <td>0</td>\n",
       "      <td>62983</td>\n",
       "      <td>-1</td>\n",
       "      <td>[{'xref_id': 'Disodium_malonate', 'xref_name':...</td>\n",
       "      <td>False</td>\n",
       "      <td>None</td>\n",
       "      <td>-1</td>\n",
       "      <td>...</td>\n",
       "      <td>False</td>\n",
       "      <td>None</td>\n",
       "      <td>None</td>\n",
       "      <td>None</td>\n",
       "      <td>None</td>\n",
       "      <td>None</td>\n",
       "      <td>None</td>\n",
       "      <td>False</td>\n",
       "      <td>None</td>\n",
       "      <td>None</td>\n",
       "    </tr>\n",
       "  </tbody>\n",
       "</table>\n",
       "<p>1 rows × 38 columns</p>\n",
       "</div>"
      ],
      "text/plain": [
       "  atc_classifications  availability_type biotherapeutic  black_box_warning  \\\n",
       "0                  []                 -1           None                  0   \n",
       "\n",
       "   chebi_par_id  chirality                                   cross_references  \\\n",
       "0         62983         -1  [{'xref_id': 'Disodium_malonate', 'xref_name':...   \n",
       "\n",
       "   dosed_ingredient first_approval  first_in_class  ... topical usan_stem  \\\n",
       "0             False           None              -1  ...   False      None   \n",
       "\n",
       "   usan_stem_definition  usan_substem usan_year withdrawn_class  \\\n",
       "0                  None          None      None            None   \n",
       "\n",
       "  withdrawn_country withdrawn_flag withdrawn_reason  withdrawn_year  \n",
       "0              None          False             None            None  \n",
       "\n",
       "[1 rows x 38 columns]"
      ]
     },
     "execution_count": 3,
     "metadata": {},
     "output_type": "execute_result"
    }
   ],
   "source": [
    "similarity = new_client.new_client.similarity\n",
    "res_query = similarity.filter(smiles=\"[O-]C(=O)CC([O-])=O\", similarity=70)\n",
    "res = pd.DataFrame.from_dict(res_query)\n",
    "res"
   ]
  },
  {
   "cell_type": "code",
   "execution_count": null,
   "id": "039f9b07-f42a-4fba-b8f2-665a3a4cfa88",
   "metadata": {},
   "outputs": [],
   "source": []
  },
  {
   "cell_type": "code",
   "execution_count": 4,
   "id": "4aadb2d0-7bcd-4aae-99ec-d3c97ec3db13",
   "metadata": {},
   "outputs": [],
   "source": [
    "activity = new_client.new_client.activity\n",
    "act = activity.filter(target_chembl_id=targets.target_chembl_id[1]).filter(standard_type=\"IC50\")"
   ]
  },
  {
   "cell_type": "code",
   "execution_count": 5,
   "id": "06a5500e-334d-4e63-b2df-826a51a26a1d",
   "metadata": {},
   "outputs": [],
   "source": [
    "act= pd.DataFrame.from_dict(act)"
   ]
  },
  {
   "cell_type": "code",
   "execution_count": 6,
   "id": "48b64201-2302-4c15-9253-efaf3bab466e",
   "metadata": {},
   "outputs": [
    {
     "data": {
      "text/html": [
       "<div>\n",
       "<style scoped>\n",
       "    .dataframe tbody tr th:only-of-type {\n",
       "        vertical-align: middle;\n",
       "    }\n",
       "\n",
       "    .dataframe tbody tr th {\n",
       "        vertical-align: top;\n",
       "    }\n",
       "\n",
       "    .dataframe thead th {\n",
       "        text-align: right;\n",
       "    }\n",
       "</style>\n",
       "<table border=\"1\" class=\"dataframe\">\n",
       "  <thead>\n",
       "    <tr style=\"text-align: right;\">\n",
       "      <th></th>\n",
       "      <th>activity_comment</th>\n",
       "      <th>activity_id</th>\n",
       "      <th>activity_properties</th>\n",
       "      <th>assay_chembl_id</th>\n",
       "      <th>assay_description</th>\n",
       "      <th>assay_type</th>\n",
       "      <th>assay_variant_accession</th>\n",
       "      <th>assay_variant_mutation</th>\n",
       "      <th>bao_endpoint</th>\n",
       "      <th>bao_format</th>\n",
       "      <th>...</th>\n",
       "      <th>target_organism</th>\n",
       "      <th>target_pref_name</th>\n",
       "      <th>target_tax_id</th>\n",
       "      <th>text_value</th>\n",
       "      <th>toid</th>\n",
       "      <th>type</th>\n",
       "      <th>units</th>\n",
       "      <th>uo_units</th>\n",
       "      <th>upper_value</th>\n",
       "      <th>value</th>\n",
       "    </tr>\n",
       "  </thead>\n",
       "  <tbody>\n",
       "    <tr>\n",
       "      <th>0</th>\n",
       "      <td>None</td>\n",
       "      <td>19036387</td>\n",
       "      <td>[]</td>\n",
       "      <td>CHEMBL4350890</td>\n",
       "      <td>Inhibition of SDH-A (unknown origin) by ELISA</td>\n",
       "      <td>B</td>\n",
       "      <td>None</td>\n",
       "      <td>None</td>\n",
       "      <td>BAO_0000190</td>\n",
       "      <td>BAO_0000357</td>\n",
       "      <td>...</td>\n",
       "      <td>Homo sapiens</td>\n",
       "      <td>Succinate dehydrogenase [ubiquinone] flavoprot...</td>\n",
       "      <td>9606</td>\n",
       "      <td>None</td>\n",
       "      <td>None</td>\n",
       "      <td>IC50</td>\n",
       "      <td>uM</td>\n",
       "      <td>UO_0000065</td>\n",
       "      <td>None</td>\n",
       "      <td>8.19</td>\n",
       "    </tr>\n",
       "    <tr>\n",
       "      <th>1</th>\n",
       "      <td>None</td>\n",
       "      <td>19036388</td>\n",
       "      <td>[]</td>\n",
       "      <td>CHEMBL4350890</td>\n",
       "      <td>Inhibition of SDH-A (unknown origin) by ELISA</td>\n",
       "      <td>B</td>\n",
       "      <td>None</td>\n",
       "      <td>None</td>\n",
       "      <td>BAO_0000190</td>\n",
       "      <td>BAO_0000357</td>\n",
       "      <td>...</td>\n",
       "      <td>Homo sapiens</td>\n",
       "      <td>Succinate dehydrogenase [ubiquinone] flavoprot...</td>\n",
       "      <td>9606</td>\n",
       "      <td>None</td>\n",
       "      <td>None</td>\n",
       "      <td>IC50</td>\n",
       "      <td>uM</td>\n",
       "      <td>UO_0000065</td>\n",
       "      <td>None</td>\n",
       "      <td>30.0</td>\n",
       "    </tr>\n",
       "    <tr>\n",
       "      <th>2</th>\n",
       "      <td>None</td>\n",
       "      <td>19036389</td>\n",
       "      <td>[]</td>\n",
       "      <td>CHEMBL4350890</td>\n",
       "      <td>Inhibition of SDH-A (unknown origin) by ELISA</td>\n",
       "      <td>B</td>\n",
       "      <td>None</td>\n",
       "      <td>None</td>\n",
       "      <td>BAO_0000190</td>\n",
       "      <td>BAO_0000357</td>\n",
       "      <td>...</td>\n",
       "      <td>Homo sapiens</td>\n",
       "      <td>Succinate dehydrogenase [ubiquinone] flavoprot...</td>\n",
       "      <td>9606</td>\n",
       "      <td>None</td>\n",
       "      <td>None</td>\n",
       "      <td>IC50</td>\n",
       "      <td>uM</td>\n",
       "      <td>UO_0000065</td>\n",
       "      <td>None</td>\n",
       "      <td>30.0</td>\n",
       "    </tr>\n",
       "  </tbody>\n",
       "</table>\n",
       "<p>3 rows × 45 columns</p>\n",
       "</div>"
      ],
      "text/plain": [
       "  activity_comment  activity_id activity_properties assay_chembl_id  \\\n",
       "0             None     19036387                  []   CHEMBL4350890   \n",
       "1             None     19036388                  []   CHEMBL4350890   \n",
       "2             None     19036389                  []   CHEMBL4350890   \n",
       "\n",
       "                               assay_description assay_type  \\\n",
       "0  Inhibition of SDH-A (unknown origin) by ELISA          B   \n",
       "1  Inhibition of SDH-A (unknown origin) by ELISA          B   \n",
       "2  Inhibition of SDH-A (unknown origin) by ELISA          B   \n",
       "\n",
       "  assay_variant_accession assay_variant_mutation bao_endpoint   bao_format  \\\n",
       "0                    None                   None  BAO_0000190  BAO_0000357   \n",
       "1                    None                   None  BAO_0000190  BAO_0000357   \n",
       "2                    None                   None  BAO_0000190  BAO_0000357   \n",
       "\n",
       "   ... target_organism                                   target_pref_name  \\\n",
       "0  ...    Homo sapiens  Succinate dehydrogenase [ubiquinone] flavoprot...   \n",
       "1  ...    Homo sapiens  Succinate dehydrogenase [ubiquinone] flavoprot...   \n",
       "2  ...    Homo sapiens  Succinate dehydrogenase [ubiquinone] flavoprot...   \n",
       "\n",
       "  target_tax_id text_value  toid  type  units    uo_units upper_value value  \n",
       "0          9606       None  None  IC50     uM  UO_0000065        None  8.19  \n",
       "1          9606       None  None  IC50     uM  UO_0000065        None  30.0  \n",
       "2          9606       None  None  IC50     uM  UO_0000065        None  30.0  \n",
       "\n",
       "[3 rows x 45 columns]"
      ]
     },
     "execution_count": 6,
     "metadata": {},
     "output_type": "execute_result"
    }
   ],
   "source": [
    "act"
   ]
  },
  {
   "cell_type": "code",
   "execution_count": 7,
   "id": "45e145a1-eeba-4ce0-bdde-b55e91d58ad4",
   "metadata": {},
   "outputs": [
    {
     "name": "stdout",
     "output_type": "stream",
     "text": [
      "CC(=O)NC[C@H]1CN(c2ccc(N3CCOCC3)c(F)c2)C(=O)O1\n",
      "CC(=O)NC[C@H]1CN(c2ccc(N3CCO[C@@]4(CCCOC4)C3)c(F)c2)C(=O)O1\n",
      "CC(=O)NC[C@H]1CN(c2ccc(N3CCO[C@]4(CCCOC4)C3)c(F)c2)C(=O)O1\n"
     ]
    }
   ],
   "source": [
    "for m in act.canonical_smiles:\n",
    "    print (m)"
   ]
  },
  {
   "cell_type": "code",
   "execution_count": 8,
   "id": "a0cdcff3-1740-4c7e-a88c-77682362b92e",
   "metadata": {},
   "outputs": [],
   "source": [
    "# !pip install selfies"
   ]
  },
  {
   "cell_type": "code",
   "execution_count": 9,
   "id": "fa5a977f-63e7-48c4-9e47-c1a8ba1ab52e",
   "metadata": {},
   "outputs": [],
   "source": [
    "# import selfies"
   ]
  },
  {
   "cell_type": "code",
   "execution_count": 10,
   "id": "8583c9d8-7f75-4f02-9c42-dc60e380e67a",
   "metadata": {},
   "outputs": [],
   "source": [
    "# list_of_selfies = []\n",
    "# for m in act.canonical_smiles:\n",
    "#     list_of_selfies.append( selfies.encoder(m))\n",
    "    "
   ]
  },
  {
   "cell_type": "code",
   "execution_count": 11,
   "id": "f56df6e0-7764-4f37-89ed-cb6602702ae7",
   "metadata": {},
   "outputs": [],
   "source": [
    "# list_of_selfies[0]"
   ]
  },
  {
   "cell_type": "code",
   "execution_count": 12,
   "id": "c2db3fe2-468b-4d10-b1aa-dcaa18406b04",
   "metadata": {},
   "outputs": [],
   "source": [
    "list_similar_80 = []\n",
    "for m in act.canonical_smiles:\n",
    "    similarity = new_client.new_client.similarity\n",
    "    res_query = similarity.filter(smiles=m, similarity=80)\n",
    "    res = pd.DataFrame.from_dict(res_query)\n",
    "    list_similar_80.append(res)\n",
    "  "
   ]
  },
  {
   "cell_type": "code",
   "execution_count": 13,
   "id": "34ab0bc5-d799-4d91-84b3-9422b8a252dc",
   "metadata": {},
   "outputs": [],
   "source": [
    "df_similar_80 = pd.concat(list_similar_80)"
   ]
  },
  {
   "cell_type": "code",
   "execution_count": 14,
   "id": "c3ef1f09-cc82-4a46-ab3d-6d3107472ab2",
   "metadata": {},
   "outputs": [
    {
     "name": "stdout",
     "output_type": "stream",
     "text": [
      "atc_classifications\n",
      "availability_type\n",
      "biotherapeutic\n",
      "black_box_warning\n",
      "chebi_par_id\n",
      "chirality\n",
      "cross_references\n",
      "dosed_ingredient\n",
      "first_approval\n",
      "first_in_class\n",
      "helm_notation\n",
      "indication_class\n",
      "inorganic_flag\n",
      "max_phase\n",
      "molecule_chembl_id\n",
      "molecule_hierarchy\n",
      "molecule_properties\n",
      "molecule_structures\n",
      "molecule_type\n",
      "natural_product\n",
      "oral\n",
      "parenteral\n",
      "polymer_flag\n",
      "pref_name\n",
      "prodrug\n",
      "similarity\n",
      "structure_type\n",
      "therapeutic_flag\n",
      "topical\n",
      "usan_stem\n",
      "usan_stem_definition\n",
      "usan_substem\n",
      "usan_year\n",
      "withdrawn_class\n",
      "withdrawn_country\n",
      "withdrawn_flag\n",
      "withdrawn_reason\n",
      "withdrawn_year\n"
     ]
    }
   ],
   "source": [
    "for m in df_similar_80.columns:\n",
    "    print (m)"
   ]
  },
  {
   "cell_type": "code",
   "execution_count": 15,
   "id": "9f0c4d4b-8c2c-45fa-aeeb-dc58b56c1b37",
   "metadata": {},
   "outputs": [
    {
     "name": "stdout",
     "output_type": "stream",
     "text": [
      "CC(=O)NC[C@H]1CN(c2ccc(N3CCOCC3)c(F)c2)C(=O)O1\n",
      "CC(=O)NCC1CN(c2ccc(N3CCOCC3)c(F)c2)C(=O)O1\n",
      "CC(=O)NC[C@@H]1CN(c2ccc(N3CCOCC3)c(F)c2)C(=O)O1\n",
      "CC(=O)NC[C@H]1CN(c2ccc(N3CCCOCC3)c(F)c2)C(=O)O1\n",
      "CC(=O)NC[C@H]1CN(c2ccc(N3CCN(c4ccc(F)cc4)CC3)c(F)c2)C(=O)O1\n",
      "CC(=O)NC[C@H]1CN(c2ccn(-c3ccc(N4CCOCC4)c(F)c3)c2)C(=O)O1\n",
      "CC(=O)NC[C@H]1CN(c2ccc(N3CCN(c4ccccc4)CC3)c(F)c2)C(=O)O1\n",
      "CC(=O)NC[C@H]1CN(c2ccc(N3CCNCC3)c(F)c2)C(=O)O1\n",
      "CC(=O)NC[C@H]1CN(c2ccc(N3CCSCC3)c(F)c2)C(=O)O1\n",
      "CC(=O)NC[C@H]1CN(c2ccc(N3CCO[C@@]4(CCCOC4)C3)c(F)c2)C(=O)O1\n",
      "CC(=O)NC[C@H]1CN(c2ccc(N3CCO[C@]4(CCCOC4)C3)c(F)c2)C(=O)O1\n",
      "CC(=O)NC[C@H]1CN(c2ccc(N3CCOC4(CCCOC4)C3)c(F)c2)C(=O)O1\n",
      "CC(=O)NC[C@H]1CN(c2ccc(N3CCOC4(CCOC4)C3)c(F)c2)C(=O)O1\n",
      "CC(=O)NC[C@H]1CN(c2ccc(N3CCO[C@@]4(CCCOC4)C3)c(F)c2)C(=O)O1\n",
      "CC(=O)NC[C@H]1CN(c2ccc(N3CCO[C@]4(CCCOC4)C3)c(F)c2)C(=O)O1\n",
      "CC(=O)NC[C@H]1CN(c2ccc(N3CCOC4(CCCOC4)C3)c(F)c2)C(=O)O1\n",
      "CC(=O)NC[C@H]1CN(c2ccc(N3CCOC4(CCOC4)C3)c(F)c2)C(=O)O1\n"
     ]
    }
   ],
   "source": [
    "for m in df_similar_80.molecule_structures:\n",
    "    print (m[\"canonical_smiles\"])"
   ]
  },
  {
   "cell_type": "code",
   "execution_count": 16,
   "id": "d27fe357-a587-472d-be4d-d259f355621c",
   "metadata": {},
   "outputs": [],
   "source": [
    "from rdkit import Chem\n",
    "from rdkit.Chem import AllChem\n",
    "from rdkit.Chem.rdMolTransforms import ComputeCentroid"
   ]
  },
  {
   "cell_type": "code",
   "execution_count": 17,
   "id": "337d50a8-d66d-48a8-83e7-003888a689d7",
   "metadata": {},
   "outputs": [],
   "source": [
    "mol1 = Chem.MolFromSmiles(\"CC(=O)NC[C@H]1CN(c2ccc(N3CCOC4(CCOC4)C3)c(F)c2)C(=O)O1\")"
   ]
  },
  {
   "cell_type": "code",
   "execution_count": 18,
   "id": "b6fa2005-d96e-4f1b-86a5-e0bdc6288dc4",
   "metadata": {},
   "outputs": [],
   "source": [
    "Chem.rdmolfiles.MolToPDBFile(mol1,\"../files/pdb_test.pdb\")"
   ]
  },
  {
   "cell_type": "code",
   "execution_count": 19,
   "id": "34e7e88b-5729-4845-9849-2e6482139eb9",
   "metadata": {},
   "outputs": [],
   "source": [
    "import subprocess"
   ]
  },
  {
   "cell_type": "code",
   "execution_count": 20,
   "id": "f9c428aa-8559-4426-a765-5513e6a4e170",
   "metadata": {},
   "outputs": [
    {
     "name": "stdout",
     "output_type": "stream",
     "text": [
      "1 6 C C\n",
      "2 6 C C\n",
      "3 8 O O\n",
      "4 7 N N\n",
      "5 6 C C\n",
      "6 6 C C\n",
      "7 6 C C\n",
      "8 7 N N\n",
      "9 6 C C\n",
      "10 6 C C\n",
      "11 6 C C\n",
      "12 6 C C\n",
      "13 7 N N\n",
      "14 6 C C\n",
      "15 6 C C\n",
      "16 8 O O\n",
      "17 6 C C\n",
      "18 6 C C\n",
      "19 6 C C\n",
      "20 8 O O\n",
      "21 6 C C\n",
      "22 6 C C\n",
      "23 6 C C\n",
      "24 9 F F\n",
      "25 6 C C\n",
      "26 6 C C\n",
      "27 8 O O\n",
      "28 8 O O\n",
      "29 1 H H\n",
      "30 1 H H\n",
      "31 1 H H\n",
      "32 1 H H\n",
      "33 1 H H\n",
      "34 1 H H\n",
      "35 1 H H\n",
      "36 1 H H\n",
      "37 1 H H\n",
      "38 1 H H\n",
      "39 1 H H\n",
      "40 1 H H\n",
      "41 1 H H\n",
      "42 1 H H\n",
      "43 1 H H\n",
      "44 1 H H\n",
      "45 1 H H\n",
      "46 1 H H\n",
      "47 1 H H\n",
      "48 1 H H\n",
      "1 6 C C\n",
      "2 6 C C\n",
      "3 8 O O\n",
      "4 7 N N\n",
      "5 6 C C\n",
      "6 6 C C\n",
      "7 6 C C\n",
      "8 7 N N\n",
      "9 6 C C\n",
      "10 6 C C\n",
      "11 6 C C\n",
      "12 6 C C\n",
      "13 7 N N\n",
      "14 6 C C\n",
      "15 6 C C\n",
      "16 8 O O\n",
      "17 6 C C\n",
      "18 6 C C\n",
      "19 6 C C\n",
      "20 8 O O\n",
      "21 6 C C\n",
      "22 6 C C\n",
      "23 6 C C\n",
      "24 9 F F\n",
      "25 6 C C\n",
      "26 6 C C\n",
      "27 8 O O\n",
      "28 8 O O\n",
      "29 1 H H\n",
      "30 1 H H\n",
      "31 1 H H\n",
      "32 1 H H\n",
      "33 1 H H\n",
      "34 1 H H\n",
      "35 1 H H\n",
      "36 1 H H\n",
      "37 1 H H\n",
      "38 1 H H\n",
      "39 1 H H\n",
      "40 1 H H\n",
      "41 1 H H\n",
      "42 1 H H\n",
      "43 1 H H\n",
      "44 1 H H\n",
      "45 1 H H\n",
      "46 1 H H\n",
      "47 1 H H\n",
      "48 1 H H\n"
     ]
    },
    {
     "data": {
      "text/plain": [
       "0"
      ]
     },
     "execution_count": 20,
     "metadata": {},
     "output_type": "execute_result"
    }
   ],
   "source": [
    "subprocess.call(f'mk_prepare_ligand.py -i ../files/pdb_test.pdb -o ../files/pdb_test_prepared.pdb --add_hydrogen --pH 7.4', shell=True)"
   ]
  },
  {
   "cell_type": "code",
   "execution_count": 21,
   "id": "8a778e67-ff6b-46e6-9804-2f0fb82650f2",
   "metadata": {},
   "outputs": [],
   "source": [
    "#!pip install pdb-tools"
   ]
  },
  {
   "cell_type": "code",
   "execution_count": 22,
   "id": "f79a66f9-dcda-448c-8a20-8834a74524dd",
   "metadata": {},
   "outputs": [],
   "source": [
    "import pdbtools"
   ]
  },
  {
   "cell_type": "code",
   "execution_count": 23,
   "id": "d37963d1-3a94-47d3-91ea-b0eddccde3dc",
   "metadata": {},
   "outputs": [
    {
     "name": "stdout",
     "output_type": "stream",
     "text": [
      "\n",
      "Extracts one or more chains from a PDB file.\n",
      "\n",
      "Usage:\n",
      "    python pdb_selchain.py -<chain id> <pdb file>\n",
      "\n",
      "Example:\n",
      "    python pdb_selchain.py -C 1CTF.pdb  # selects chain C\n",
      "    python pdb_selchain.py -A,C 1CTF.pdb  # selects chains A and C\n",
      "\n",
      "This program is part of the `pdb-tools` suite of utilities and should not be\n",
      "distributed isolatedly. The `pdb-tools` were created to quickly manipulate PDB\n",
      "files using the terminal, and can be used sequentially, with one tool streaming\n",
      "data to another. They are based on old FORTRAN77 code that was taking too much\n",
      "effort to maintain and compile. RIP.\n"
     ]
    }
   ],
   "source": [
    "!pdb_selchain"
   ]
  },
  {
   "cell_type": "code",
   "execution_count": 24,
   "id": "87a1603a-7a43-45fb-8bcd-266c971d4389",
   "metadata": {},
   "outputs": [
    {
     "data": {
      "text/plain": [
       "0"
      ]
     },
     "execution_count": 24,
     "metadata": {},
     "output_type": "execute_result"
    }
   ],
   "source": [
    "subprocess.call(f'pdb_selchain -A,B ../files/6vax.pdb | pdb_delhetatm | pdb_tidy > ../files/receptor_docking.pdb', shell=True)"
   ]
  },
  {
   "cell_type": "code",
   "execution_count": 27,
   "id": "7fa062c6-e894-407c-aef7-0b3f19b5c390",
   "metadata": {},
   "outputs": [
    {
     "name": "stdout",
     "output_type": "stream",
     "text": [
      "adding gasteiger charges to peptide\n"
     ]
    },
    {
     "data": {
      "text/plain": [
       "0"
      ]
     },
     "execution_count": 27,
     "metadata": {},
     "output_type": "execute_result"
    }
   ],
   "source": [
    "subprocess.call(f'/home/didier/ADFRsuite-1.0/bin/prepare_receptor -r ../files/receptor_docking.pdb -o ../files/receptor_docking.pdbqt -A checkhydrogens', shell=True)"
   ]
  },
  {
   "cell_type": "code",
   "execution_count": null,
   "id": "0645cb63-57a4-4165-a260-6d65a5425d60",
   "metadata": {},
   "outputs": [],
   "source": []
  },
  {
   "cell_type": "code",
   "execution_count": 33,
   "id": "c379dc67-3679-4788-82b3-8fcb22b31410",
   "metadata": {},
   "outputs": [
    {
     "name": "stdout",
     "output_type": "stream",
     "text": [
      "Should print 0 (atoms)\n",
      "0\n",
      "Should print 2 (atoms)\n",
      "2\n",
      "Should print 1 (bond)\n",
      "1\n"
     ]
    }
   ],
   "source": [
    "from openbabel import openbabel\n",
    "\n",
    "mol = openbabel.OBMol()\n",
    "print ('Should print 0 (atoms)')\n",
    "print (mol.NumAtoms())\n",
    "\n",
    "a = mol.NewAtom()\n",
    "a.SetAtomicNum(6)   # carbon atom\n",
    "a.SetVector(0.0, 1.0, 2.0) # coordinates\n",
    "\n",
    "b = mol.NewAtom()\n",
    "mol.AddBond(1, 2, 1)   # atoms indexed from 1\n",
    "print (\"Should print 2 (atoms)\")\n",
    "print (mol.NumAtoms())\n",
    "print ('Should print 1 (bond)')\n",
    "print (mol.NumBonds())\n",
    "\n",
    "mol.Clear();\n"
   ]
  },
  {
   "cell_type": "code",
   "execution_count": 48,
   "id": "6d052f35-488f-46dd-aca8-70e6170b7352",
   "metadata": {},
   "outputs": [
    {
     "data": {
      "text/plain": [
       "True"
      ]
     },
     "execution_count": 48,
     "metadata": {},
     "output_type": "execute_result"
    }
   ],
   "source": [
    "obConversion = openbabel.OBConversion()\n",
    "obConversion.SetInAndOutFormats(\"smiles\", \"pdbqt\")\n"
   ]
  },
  {
   "cell_type": "code",
   "execution_count": 51,
   "id": "46759fca-6be0-450b-beeb-2483d9613adc",
   "metadata": {},
   "outputs": [
    {
     "data": {
      "text/plain": [
       "True"
      ]
     },
     "execution_count": 51,
     "metadata": {},
     "output_type": "execute_result"
    }
   ],
   "source": [
    "mol = openbabel.OBMol()\n",
    "obConversion.ReadString(mol, \"CC(=O)NC[C@H]1CN(c2ccc(N3CCOC4(CCOC4)C3)c(F)c2)C(=O)O1\")\n"
   ]
  },
  {
   "cell_type": "code",
   "execution_count": 52,
   "id": "93a0687d-2f70-4ed3-ad76-cd06734c165c",
   "metadata": {},
   "outputs": [
    {
     "data": {
      "text/plain": [
       "True"
      ]
     },
     "execution_count": 52,
     "metadata": {},
     "output_type": "execute_result"
    }
   ],
   "source": [
    "mol.AddHydrogens()"
   ]
  },
  {
   "cell_type": "code",
   "execution_count": 53,
   "id": "0a7eed28-295e-4d3d-9d08-8d00b44ff0a1",
   "metadata": {},
   "outputs": [
    {
     "data": {
      "text/plain": [
       "False"
      ]
     },
     "execution_count": 53,
     "metadata": {},
     "output_type": "execute_result"
    }
   ],
   "source": [
    "mol.Has3D()"
   ]
  },
  {
   "cell_type": "code",
   "execution_count": 54,
   "id": "446b9163-fc68-40ad-9f10-60e965c0c1c7",
   "metadata": {},
   "outputs": [
    {
     "data": {
      "text/plain": [
       "False"
      ]
     },
     "execution_count": 54,
     "metadata": {},
     "output_type": "execute_result"
    }
   ],
   "source": [
    "mol.IsCorrectedForPH()"
   ]
  },
  {
   "cell_type": "code",
   "execution_count": 56,
   "id": "5b1037c8-1cca-49b5-9ed3-aaa5671e59de",
   "metadata": {},
   "outputs": [
    {
     "data": {
      "text/plain": [
       "<Swig Object of type 'std::vector< double *,std::allocator< double * > > *' at 0x7f6d3bf8a720>"
      ]
     },
     "execution_count": 56,
     "metadata": {},
     "output_type": "execute_result"
    }
   ],
   "source": [
    "mol.GetConformers()"
   ]
  },
  {
   "cell_type": "code",
   "execution_count": 59,
   "id": "2110f6c5-c3a5-49d8-982c-53c916477e3f",
   "metadata": {},
   "outputs": [
    {
     "data": {
      "text/plain": [
       "openbabel.openbabel.OBMol"
      ]
     },
     "execution_count": 59,
     "metadata": {},
     "output_type": "execute_result"
    }
   ],
   "source": [
    "type(mol)"
   ]
  },
  {
   "cell_type": "code",
   "execution_count": 62,
   "id": "6a980afd-d020-4324-8e39-ba6f723c575c",
   "metadata": {},
   "outputs": [
    {
     "data": {
      "text/plain": [
       "<Swig Object of type 'double *' at 0x7f6d3c94f360>"
      ]
     },
     "execution_count": 62,
     "metadata": {},
     "output_type": "execute_result"
    }
   ],
   "source": [
    "mol.GetConformer(0)"
   ]
  },
  {
   "cell_type": "code",
   "execution_count": 63,
   "id": "d5d524e5-5d86-416c-a94a-95e0dc1f65fc",
   "metadata": {},
   "outputs": [
    {
     "data": {
      "text/plain": [
       "<openbabel.openbabel.OBMol; proxy of <Swig Object of type 'OpenBabel::OBMol *' at 0x7f6d3c91b7b0> >"
      ]
     },
     "execution_count": 63,
     "metadata": {},
     "output_type": "execute_result"
    }
   ],
   "source": [
    "mol"
   ]
  },
  {
   "cell_type": "code",
   "execution_count": 66,
   "id": "53803aaf-713c-46ba-a893-88b3566b3b6d",
   "metadata": {},
   "outputs": [
    {
     "ename": "TypeError",
     "evalue": "in method 'OBConversion_WriteFile', argument 2 of type 'OpenBabel::OBBase *'",
     "output_type": "error",
     "traceback": [
      "\u001b[0;31m---------------------------------------------------------------------------\u001b[0m",
      "\u001b[0;31mTypeError\u001b[0m                                 Traceback (most recent call last)",
      "\u001b[0;32m/tmp/ipykernel_100398/435629748.py\u001b[0m in \u001b[0;36m<module>\u001b[0;34m\u001b[0m\n\u001b[0;32m----> 1\u001b[0;31m \u001b[0mobConversion\u001b[0m\u001b[0;34m.\u001b[0m\u001b[0mWriteFile\u001b[0m\u001b[0;34m(\u001b[0m\u001b[0mmol\u001b[0m\u001b[0;34m.\u001b[0m\u001b[0mGetConformer\u001b[0m\u001b[0;34m(\u001b[0m\u001b[0;36m2\u001b[0m\u001b[0;34m)\u001b[0m\u001b[0;34m,\u001b[0m \u001b[0;34m\"../files/ligand_babel.pdbqt\"\u001b[0m\u001b[0;34m)\u001b[0m\u001b[0;34m\u001b[0m\u001b[0;34m\u001b[0m\u001b[0m\n\u001b[0m",
      "\u001b[0;31mTypeError\u001b[0m: in method 'OBConversion_WriteFile', argument 2 of type 'OpenBabel::OBBase *'"
     ]
    }
   ],
   "source": [
    "obConversion.WriteFile(mol.GetConformer(2), \"../files/ligand_babel.pdbqt\")"
   ]
  },
  {
   "cell_type": "code",
   "execution_count": null,
   "id": "dc819104-3db4-464a-abe9-ab3a2327dc2f",
   "metadata": {},
   "outputs": [],
   "source": []
  },
  {
   "cell_type": "code",
   "execution_count": null,
   "id": "d66b1ce6-24fa-4886-ba87-bfe8162cd293",
   "metadata": {},
   "outputs": [],
   "source": []
  }
 ],
 "metadata": {
  "kernelspec": {
   "display_name": "Python 3 (ipykernel)",
   "language": "python",
   "name": "python3"
  },
  "language_info": {
   "codemirror_mode": {
    "name": "ipython",
    "version": 3
   },
   "file_extension": ".py",
   "mimetype": "text/x-python",
   "name": "python",
   "nbconvert_exporter": "python",
   "pygments_lexer": "ipython3",
   "version": "3.7.10"
  }
 },
 "nbformat": 4,
 "nbformat_minor": 5
}
