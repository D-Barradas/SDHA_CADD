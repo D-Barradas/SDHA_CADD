{
 "cells": [
  {
   "cell_type": "code",
   "execution_count": 35,
   "id": "88693d01-49d4-401a-be0f-ae9fa6735beb",
   "metadata": {},
   "outputs": [
    {
     "name": "stdout",
     "output_type": "stream",
     "text": [
      "44\n",
      "46\n"
     ]
    }
   ],
   "source": [
    "import openbabel as ob\n",
    "\n",
    "obConversion = openbabel.OBConversion()\n",
    "obConversion.SetInAndOutFormats( \"pdbqt\", \"mol2\")\n",
    "\n",
    "obmol = ob.OBMol()\n",
    "obconversion.ReadFile(obmol,\"../files/ligand_vina_out_CHEMBL126.pdbqt\")\n",
    "\n",
    "obmol.CorrectForPH()\n",
    "obmol.AddHydrogens()\n",
    "\n",
    "\n",
    "print (obmol.NumAtoms())\n",
    "print (obmol.NumBonds())\n",
    "\n",
    "outMDL = obConversion.WriteFile(obmol,\"../files/ligand_vina_out_CHEMBL126.mol2\")"
   ]
  },
  {
   "cell_type": "markdown",
   "id": "f644812a-0556-443d-be49-c041642c1cc6",
   "metadata": {},
   "source": [
    "## From command line \n",
    "# https://www.researchgate.net/post/How-can-we-convert-pdbqt-file-to-pdb-file \n",
    "!babel -ipdbqt 'filename.pdbqt' -opdb 'filename.pdb'"
   ]
  },
  {
   "cell_type": "code",
   "execution_count": null,
   "id": "8c17fe32-250e-4070-9bf4-db9421b5b7a3",
   "metadata": {},
   "outputs": [],
   "source": [
    "#ligand_vina_out_CHEMBL126_0.pdb"
   ]
  },
  {
   "cell_type": "code",
   "execution_count": 36,
   "id": "f37db6d6-9c83-4839-8873-1012e67d768f",
   "metadata": {},
   "outputs": [
    {
     "name": "stdout",
     "output_type": "stream",
     "text": [
      "44\n",
      "46\n"
     ]
    }
   ],
   "source": [
    "obConversion = openbabel.OBConversion()\n",
    "obConversion.SetInAndOutFormats( \"pdbqt\", \"pdb\")\n",
    "\n",
    "obmol = ob.OBMol()\n",
    "obconversion.ReadFile(obmol,\"../files/ligand_vina_out_CHEMBL126.pdbqt\")\n",
    "\n",
    "obmol.CorrectForPH()\n",
    "obmol.AddHydrogens()\n",
    "\n",
    "\n",
    "print (obmol.NumAtoms())\n",
    "print (obmol.NumBonds())\n",
    "\n",
    "outMDL = obConversion.WriteFile(obmol,\"../files/ligand_vina_out_CHEMBL126_1.pdb\")"
   ]
  },
  {
   "cell_type": "code",
   "execution_count": null,
   "id": "dba191bb-88f7-479b-8baa-99457b9d1055",
   "metadata": {},
   "outputs": [],
   "source": []
  }
 ],
 "metadata": {
  "kernelspec": {
   "display_name": "Python 3 (ipykernel)",
   "language": "python",
   "name": "python3"
  },
  "language_info": {
   "codemirror_mode": {
    "name": "ipython",
    "version": 3
   },
   "file_extension": ".py",
   "mimetype": "text/x-python",
   "name": "python",
   "nbconvert_exporter": "python",
   "pygments_lexer": "ipython3",
   "version": "3.7.10"
  }
 },
 "nbformat": 4,
 "nbformat_minor": 5
}
